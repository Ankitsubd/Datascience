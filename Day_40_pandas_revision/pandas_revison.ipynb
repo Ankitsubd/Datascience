{
 "cells": [
  {
   "cell_type": "code",
   "execution_count": 15,
   "id": "3ecd267c-b23f-4fdd-b324-43f897cfac54",
   "metadata": {},
   "outputs": [],
   "source": [
    "import numpy as np\n",
    "import pandas as pd\n",
    "import seaborn as sns\n",
    "import scipy.stats as stats"
   ]
  },
  {
   "cell_type": "code",
   "execution_count": 2,
   "id": "802fd699-08d5-461e-b45f-bb9ca5f4dc1f",
   "metadata": {},
   "outputs": [],
   "source": [
    "columns_name = [\n",
    "    'timestamp','sex','matric_gpa_%' ,'study_year','faculty','gpa_%_2023','accommodation_status',\n",
    "    'monthly_allowance','scholarship','study_hours_week','socialising_week','drinks_night',\n",
    "    'classes_missed','modules_failed','in_relationship','parental_approval','relationship_parents'\n",
    "]\n",
    "\n",
    "student_data = pd.read_csv(\"Stats survey.csv\", names = columns_name, header = 0)"
   ]
  },
  {
   "cell_type": "code",
   "execution_count": 3,
   "id": "ac346106-1646-427e-a267-6e23f9f19f32",
   "metadata": {},
   "outputs": [
    {
     "data": {
      "text/html": [
       "<div>\n",
       "<style scoped>\n",
       "    .dataframe tbody tr th:only-of-type {\n",
       "        vertical-align: middle;\n",
       "    }\n",
       "\n",
       "    .dataframe tbody tr th {\n",
       "        vertical-align: top;\n",
       "    }\n",
       "\n",
       "    .dataframe thead th {\n",
       "        text-align: right;\n",
       "    }\n",
       "</style>\n",
       "<table border=\"1\" class=\"dataframe\">\n",
       "  <thead>\n",
       "    <tr style=\"text-align: right;\">\n",
       "      <th></th>\n",
       "      <th>timestamp</th>\n",
       "      <th>sex</th>\n",
       "      <th>matric_gpa_%</th>\n",
       "      <th>study_year</th>\n",
       "      <th>faculty</th>\n",
       "      <th>gpa_%_2023</th>\n",
       "      <th>accommodation_status</th>\n",
       "      <th>monthly_allowance</th>\n",
       "      <th>scholarship</th>\n",
       "      <th>study_hours_week</th>\n",
       "      <th>socialising_week</th>\n",
       "      <th>drinks_night</th>\n",
       "      <th>classes_missed</th>\n",
       "      <th>modules_failed</th>\n",
       "      <th>in_relationship</th>\n",
       "      <th>parental_approval</th>\n",
       "      <th>relationship_parents</th>\n",
       "    </tr>\n",
       "  </thead>\n",
       "  <tbody>\n",
       "    <tr>\n",
       "      <th>0</th>\n",
       "      <td>2024/03/07 5:12:01 pm EET</td>\n",
       "      <td>Female</td>\n",
       "      <td>76.0</td>\n",
       "      <td>2nd Year</td>\n",
       "      <td>Arts &amp; Social Sciences</td>\n",
       "      <td>72.0</td>\n",
       "      <td>Private accommodation/ stay with family/friends</td>\n",
       "      <td>R 4001- R 5000</td>\n",
       "      <td>No</td>\n",
       "      <td>8+</td>\n",
       "      <td>Only weekends</td>\n",
       "      <td>8+</td>\n",
       "      <td>3</td>\n",
       "      <td>0</td>\n",
       "      <td>Yes</td>\n",
       "      <td>Yes</td>\n",
       "      <td>Very close</td>\n",
       "    </tr>\n",
       "    <tr>\n",
       "      <th>1</th>\n",
       "      <td>2024/03/07 5:12:08 pm EET</td>\n",
       "      <td>Male</td>\n",
       "      <td>89.0</td>\n",
       "      <td>2nd Year</td>\n",
       "      <td>Economic &amp; Management Sciences</td>\n",
       "      <td>75.0</td>\n",
       "      <td>Private accommodation/ stay with family/friends</td>\n",
       "      <td>R 7001 - R 8000</td>\n",
       "      <td>Yes (NSFAS, etc...)</td>\n",
       "      <td>8+</td>\n",
       "      <td>Only weekends</td>\n",
       "      <td>3-5</td>\n",
       "      <td>4+</td>\n",
       "      <td>0</td>\n",
       "      <td>No</td>\n",
       "      <td>Yes</td>\n",
       "      <td>Very close</td>\n",
       "    </tr>\n",
       "    <tr>\n",
       "      <th>2</th>\n",
       "      <td>2024/03/07 5:12:25 pm EET</td>\n",
       "      <td>Male</td>\n",
       "      <td>76.0</td>\n",
       "      <td>1st Year</td>\n",
       "      <td>AgriSciences</td>\n",
       "      <td>55.0</td>\n",
       "      <td>Private accommodation/ stay with family/friends</td>\n",
       "      <td>R 4001- R 5000</td>\n",
       "      <td>No</td>\n",
       "      <td>3-5</td>\n",
       "      <td>2</td>\n",
       "      <td>8+</td>\n",
       "      <td>3</td>\n",
       "      <td>0</td>\n",
       "      <td>No</td>\n",
       "      <td>Yes</td>\n",
       "      <td>Very close</td>\n",
       "    </tr>\n",
       "    <tr>\n",
       "      <th>3</th>\n",
       "      <td>2024/03/07 5:12:28 pm EET</td>\n",
       "      <td>Male</td>\n",
       "      <td>89.0</td>\n",
       "      <td>2nd Year</td>\n",
       "      <td>Engineering</td>\n",
       "      <td>84.0</td>\n",
       "      <td>Private accommodation/ stay with family/friends</td>\n",
       "      <td>R 6001 - R 7000</td>\n",
       "      <td>No</td>\n",
       "      <td>3-5</td>\n",
       "      <td>3</td>\n",
       "      <td>8+</td>\n",
       "      <td>2</td>\n",
       "      <td>0</td>\n",
       "      <td>Yes</td>\n",
       "      <td>Yes</td>\n",
       "      <td>Very close</td>\n",
       "    </tr>\n",
       "    <tr>\n",
       "      <th>4</th>\n",
       "      <td>2024/03/07 5:13:00 pm EET</td>\n",
       "      <td>Female</td>\n",
       "      <td>74.0</td>\n",
       "      <td>2nd Year</td>\n",
       "      <td>Arts &amp; Social Sciences</td>\n",
       "      <td>52.0</td>\n",
       "      <td>Private accommodation/ stay with family/friends</td>\n",
       "      <td>R 4001- R 5000</td>\n",
       "      <td>No</td>\n",
       "      <td>3-5</td>\n",
       "      <td>Only weekends</td>\n",
       "      <td>5-8</td>\n",
       "      <td>1</td>\n",
       "      <td>3</td>\n",
       "      <td>No</td>\n",
       "      <td>Yes</td>\n",
       "      <td>Fair</td>\n",
       "    </tr>\n",
       "  </tbody>\n",
       "</table>\n",
       "</div>"
      ],
      "text/plain": [
       "                   timestamp     sex  matric_gpa_% study_year  \\\n",
       "0  2024/03/07 5:12:01 pm EET  Female          76.0   2nd Year   \n",
       "1  2024/03/07 5:12:08 pm EET    Male          89.0   2nd Year   \n",
       "2  2024/03/07 5:12:25 pm EET    Male          76.0   1st Year   \n",
       "3  2024/03/07 5:12:28 pm EET    Male          89.0   2nd Year   \n",
       "4  2024/03/07 5:13:00 pm EET  Female          74.0   2nd Year   \n",
       "\n",
       "                          faculty  gpa_%_2023  \\\n",
       "0          Arts & Social Sciences        72.0   \n",
       "1  Economic & Management Sciences        75.0   \n",
       "2                    AgriSciences        55.0   \n",
       "3                     Engineering        84.0   \n",
       "4          Arts & Social Sciences        52.0   \n",
       "\n",
       "                              accommodation_status monthly_allowance  \\\n",
       "0  Private accommodation/ stay with family/friends    R 4001- R 5000   \n",
       "1  Private accommodation/ stay with family/friends   R 7001 - R 8000   \n",
       "2  Private accommodation/ stay with family/friends    R 4001- R 5000   \n",
       "3  Private accommodation/ stay with family/friends   R 6001 - R 7000   \n",
       "4  Private accommodation/ stay with family/friends    R 4001- R 5000   \n",
       "\n",
       "           scholarship study_hours_week socialising_week drinks_night  \\\n",
       "0                   No               8+    Only weekends           8+   \n",
       "1  Yes (NSFAS, etc...)               8+    Only weekends          3-5   \n",
       "2                   No              3-5                2           8+   \n",
       "3                   No              3-5                3           8+   \n",
       "4                   No              3-5    Only weekends          5-8   \n",
       "\n",
       "  classes_missed modules_failed in_relationship parental_approval  \\\n",
       "0              3              0             Yes               Yes   \n",
       "1             4+              0              No               Yes   \n",
       "2              3              0              No               Yes   \n",
       "3              2              0             Yes               Yes   \n",
       "4              1              3              No               Yes   \n",
       "\n",
       "  relationship_parents  \n",
       "0           Very close  \n",
       "1           Very close  \n",
       "2           Very close  \n",
       "3           Very close  \n",
       "4                 Fair  "
      ]
     },
     "execution_count": 3,
     "metadata": {},
     "output_type": "execute_result"
    }
   ],
   "source": [
    "student_data.head()"
   ]
  },
  {
   "cell_type": "markdown",
   "id": "a9b6aa76-3bac-4e61-bbe8-67d1c4c6e0fb",
   "metadata": {},
   "source": [
    "#### Exploratory Data Analysis (EDA)\n",
    "\n",
    "* shape( row, columns )\n",
    "* data types\n",
    "* no. of missing values\n",
    "* categorical value counts\n",
    "* visualization\n",
    "* correlation\n",
    "* outliers"
   ]
  },
  {
   "cell_type": "code",
   "execution_count": 4,
   "id": "aeaa1e43-b4f8-433b-8e93-679ece194da0",
   "metadata": {},
   "outputs": [
    {
     "name": "stdout",
     "output_type": "stream",
     "text": [
      "<class 'pandas.core.frame.DataFrame'>\n",
      "RangeIndex: 406 entries, 0 to 405\n",
      "Data columns (total 17 columns):\n",
      " #   Column                Non-Null Count  Dtype  \n",
      "---  ------                --------------  -----  \n",
      " 0   timestamp             406 non-null    object \n",
      " 1   sex                   404 non-null    object \n",
      " 2   matric_gpa_%          399 non-null    float64\n",
      " 3   study_year            333 non-null    object \n",
      " 4   faculty               399 non-null    object \n",
      " 5   gpa_%_2023            320 non-null    float64\n",
      " 6   accommodation_status  383 non-null    object \n",
      " 7   monthly_allowance     375 non-null    object \n",
      " 8   scholarship           398 non-null    object \n",
      " 9   study_hours_week      403 non-null    object \n",
      " 10  socialising_week      404 non-null    object \n",
      " 11  drinks_night          404 non-null    object \n",
      " 12  classes_missed        403 non-null    object \n",
      " 13  modules_failed        403 non-null    object \n",
      " 14  in_relationship       403 non-null    object \n",
      " 15  parental_approval     402 non-null    object \n",
      " 16  relationship_parents  403 non-null    object \n",
      "dtypes: float64(2), object(15)\n",
      "memory usage: 54.1+ KB\n"
     ]
    }
   ],
   "source": [
    "student_data.info()"
   ]
  },
  {
   "cell_type": "code",
   "execution_count": 5,
   "id": "7176cb07-699a-45ee-9736-34534f41240b",
   "metadata": {},
   "outputs": [
    {
     "data": {
      "text/plain": [
       "sex\n",
       "Male      0.534653\n",
       "Female    0.465347\n",
       "Name: proportion, dtype: float64"
      ]
     },
     "execution_count": 5,
     "metadata": {},
     "output_type": "execute_result"
    }
   ],
   "source": [
    "student_data['sex'].value_counts(normalize= True)"
   ]
  },
  {
   "cell_type": "markdown",
   "id": "6c63f218-d046-4a6f-b0da-8dd7b7314994",
   "metadata": {},
   "source": [
    "In this survey, there is 53% of male and 47% of female population."
   ]
  },
  {
   "cell_type": "code",
   "execution_count": 6,
   "id": "2870aaf4-55a7-44d2-96fb-83a36e481f4a",
   "metadata": {},
   "outputs": [
    {
     "data": {
      "text/html": [
       "<div>\n",
       "<style scoped>\n",
       "    .dataframe tbody tr th:only-of-type {\n",
       "        vertical-align: middle;\n",
       "    }\n",
       "\n",
       "    .dataframe tbody tr th {\n",
       "        vertical-align: top;\n",
       "    }\n",
       "\n",
       "    .dataframe thead th {\n",
       "        text-align: right;\n",
       "    }\n",
       "</style>\n",
       "<table border=\"1\" class=\"dataframe\">\n",
       "  <thead>\n",
       "    <tr style=\"text-align: right;\">\n",
       "      <th>relationship_parents</th>\n",
       "      <th>Close</th>\n",
       "      <th>Distant</th>\n",
       "      <th>Fair</th>\n",
       "      <th>Very close</th>\n",
       "    </tr>\n",
       "    <tr>\n",
       "      <th>parental_approval</th>\n",
       "      <th></th>\n",
       "      <th></th>\n",
       "      <th></th>\n",
       "      <th></th>\n",
       "    </tr>\n",
       "  </thead>\n",
       "  <tbody>\n",
       "    <tr>\n",
       "      <th>No</th>\n",
       "      <td>18</td>\n",
       "      <td>1</td>\n",
       "      <td>9</td>\n",
       "      <td>20</td>\n",
       "    </tr>\n",
       "    <tr>\n",
       "      <th>Yes</th>\n",
       "      <td>79</td>\n",
       "      <td>1</td>\n",
       "      <td>25</td>\n",
       "      <td>248</td>\n",
       "    </tr>\n",
       "  </tbody>\n",
       "</table>\n",
       "</div>"
      ],
      "text/plain": [
       "relationship_parents  Close  Distant  Fair  Very close\n",
       "parental_approval                                     \n",
       "No                       18        1     9          20\n",
       "Yes                      79        1    25         248"
      ]
     },
     "execution_count": 6,
     "metadata": {},
     "output_type": "execute_result"
    }
   ],
   "source": [
    "table = pd.crosstab(student_data.parental_approval, student_data.relationship_parents)\n",
    "table"
   ]
  },
  {
   "cell_type": "code",
   "execution_count": 7,
   "id": "76d80a77-5162-49b6-90e4-bfe94b71d4b0",
   "metadata": {},
   "outputs": [
    {
     "data": {
      "text/plain": [
       "<Axes: xlabel='relationship_parents'>"
      ]
     },
     "execution_count": 7,
     "metadata": {},
     "output_type": "execute_result"
    },
    {
     "data": {
      "image/png": "[encoded data removed]",
      "text/plain": [
       "<Figure size 640x480 with 1 Axes>"
      ]
     },
     "metadata": {},
     "output_type": "display_data"
    }
   ],
   "source": [
    "table.T.plot.line()"
   ]
  },
  {
   "cell_type": "code",
   "execution_count": 8,
   "id": "772b0c19-b2b2-48e6-ac42-f65771ad3908",
   "metadata": {},
   "outputs": [
    {
     "data": {
      "text/plain": [
       "faculty\n",
       "Economic & Management Sciences    211\n",
       "Science                            56\n",
       "Arts & Social Sciences             47\n",
       "Engineering                        37\n",
       "AgriSciences                       22\n",
       "Medicine and Health Services       10\n",
       "Law                                10\n",
       "Education                           6\n",
       "Name: count, dtype: int64"
      ]
     },
     "execution_count": 8,
     "metadata": {},
     "output_type": "execute_result"
    }
   ],
   "source": [
    "student_data.faculty.value_counts()"
   ]
  },
  {
   "cell_type": "code",
   "execution_count": 9,
   "id": "9b2706cb-eae0-4e37-b71a-f1093b1bce4b",
   "metadata": {},
   "outputs": [
    {
     "data": {
      "text/html": [
       "<div>\n",
       "<style scoped>\n",
       "    .dataframe tbody tr th:only-of-type {\n",
       "        vertical-align: middle;\n",
       "    }\n",
       "\n",
       "    .dataframe tbody tr th {\n",
       "        vertical-align: top;\n",
       "    }\n",
       "\n",
       "    .dataframe thead th {\n",
       "        text-align: right;\n",
       "    }\n",
       "</style>\n",
       "<table border=\"1\" class=\"dataframe\">\n",
       "  <thead>\n",
       "    <tr style=\"text-align: right;\">\n",
       "      <th></th>\n",
       "      <th>min</th>\n",
       "      <th>max</th>\n",
       "      <th>mean</th>\n",
       "    </tr>\n",
       "    <tr>\n",
       "      <th>faculty</th>\n",
       "      <th></th>\n",
       "      <th></th>\n",
       "      <th></th>\n",
       "    </tr>\n",
       "  </thead>\n",
       "  <tbody>\n",
       "    <tr>\n",
       "      <th>AgriSciences</th>\n",
       "      <td>66.0</td>\n",
       "      <td>86.0</td>\n",
       "      <td>74.772727</td>\n",
       "    </tr>\n",
       "    <tr>\n",
       "      <th>Arts &amp; Social Sciences</th>\n",
       "      <td>60.0</td>\n",
       "      <td>85.0</td>\n",
       "      <td>75.969565</td>\n",
       "    </tr>\n",
       "    <tr>\n",
       "      <th>Economic &amp; Management Sciences</th>\n",
       "      <td>34.0</td>\n",
       "      <td>99.0</td>\n",
       "      <td>76.977095</td>\n",
       "    </tr>\n",
       "    <tr>\n",
       "      <th>Education</th>\n",
       "      <td>71.0</td>\n",
       "      <td>82.0</td>\n",
       "      <td>76.000000</td>\n",
       "    </tr>\n",
       "    <tr>\n",
       "      <th>Engineering</th>\n",
       "      <td>73.0</td>\n",
       "      <td>98.0</td>\n",
       "      <td>83.691667</td>\n",
       "    </tr>\n",
       "    <tr>\n",
       "      <th>Law</th>\n",
       "      <td>72.0</td>\n",
       "      <td>90.0</td>\n",
       "      <td>80.200000</td>\n",
       "    </tr>\n",
       "    <tr>\n",
       "      <th>Medicine and Health Services</th>\n",
       "      <td>73.0</td>\n",
       "      <td>85.0</td>\n",
       "      <td>79.888889</td>\n",
       "    </tr>\n",
       "    <tr>\n",
       "      <th>Science</th>\n",
       "      <td>65.0</td>\n",
       "      <td>92.0</td>\n",
       "      <td>80.294727</td>\n",
       "    </tr>\n",
       "  </tbody>\n",
       "</table>\n",
       "</div>"
      ],
      "text/plain": [
       "                                 min   max       mean\n",
       "faculty                                              \n",
       "AgriSciences                    66.0  86.0  74.772727\n",
       "Arts & Social Sciences          60.0  85.0  75.969565\n",
       "Economic & Management Sciences  34.0  99.0  76.977095\n",
       "Education                       71.0  82.0  76.000000\n",
       "Engineering                     73.0  98.0  83.691667\n",
       "Law                             72.0  90.0  80.200000\n",
       "Medicine and Health Services    73.0  85.0  79.888889\n",
       "Science                         65.0  92.0  80.294727"
      ]
     },
     "execution_count": 9,
     "metadata": {},
     "output_type": "execute_result"
    }
   ],
   "source": [
    "group_faculty = student_data.groupby(by= \"faculty\")\n",
    "# group_faculty['matric_gpa_%'].describe()\n",
    "# group_faculty['matric_gpa_%'].mean()\n",
    "infromation = group_faculty['matric_gpa_%'].aggregate(('min', 'max', 'mean')) #or .agg\n",
    "infromation\n"
   ]
  },
  {
   "cell_type": "code",
   "execution_count": 10,
   "id": "fcc91039-88ce-4996-8976-931ec2579dca",
   "metadata": {},
   "outputs": [
    {
     "data": {
      "text/plain": [
       "<Axes: xlabel='faculty'>"
      ]
     },
     "execution_count": 10,
     "metadata": {},
     "output_type": "execute_result"
    },
    {
     "data": {
      "image/png": "[encoded data removed]",
      "text/plain": [
       "<Figure size 640x480 with 1 Axes>"
      ]
     },
     "metadata": {},
     "output_type": "display_data"
    }
   ],
   "source": [
    "infromation.plot.bar()"
   ]
  },
  {
   "cell_type": "markdown",
   "id": "a3ce7c12-0e8b-400b-a5ba-3e63b41408a4",
   "metadata": {},
   "source": [
    " write Description\n",
    "\n",
    "\n",
    "\n",
    "\n",
    " ."
   ]
  },
  {
   "cell_type": "code",
   "execution_count": null,
   "id": "0a4cbf0b-372f-49db-bccc-6b5a4f0665a1",
   "metadata": {},
   "outputs": [],
   "source": []
  },
  {
   "cell_type": "code",
   "execution_count": null,
   "id": "d90a5aaf-006d-4e09-a274-f737634b06a2",
   "metadata": {},
   "outputs": [],
   "source": []
  },
  {
   "cell_type": "code",
   "execution_count": 11,
   "id": "df3f5137-ab63-45ab-a930-f2d955f2d35b",
   "metadata": {},
   "outputs": [
    {
     "data": {
      "text/plain": [
       "accommodation_status\n",
       "Private accommodation/ stay with family/friends    335\n",
       "Non-private accommodation ie. Res                   48\n",
       "Name: count, dtype: int64"
      ]
     },
     "execution_count": 11,
     "metadata": {},
     "output_type": "execute_result"
    }
   ],
   "source": [
    "student_data.accommodation_status.value_counts()"
   ]
  },
  {
   "cell_type": "code",
   "execution_count": null,
   "id": "dd51fe40-9fa5-459e-9c98-d502336af1f9",
   "metadata": {},
   "outputs": [],
   "source": []
  },
  {
   "cell_type": "code",
   "execution_count": null,
   "id": "3b68f28a-fb3c-439e-b994-f821a78c3845",
   "metadata": {},
   "outputs": [],
   "source": []
  },
  {
   "cell_type": "code",
   "execution_count": 12,
   "id": "8534035d-4d1c-4005-ac65-355e3fbbac1e",
   "metadata": {},
   "outputs": [
    {
     "data": {
      "text/html": [
       "<div>\n",
       "<style scoped>\n",
       "    .dataframe tbody tr th:only-of-type {\n",
       "        vertical-align: middle;\n",
       "    }\n",
       "\n",
       "    .dataframe tbody tr th {\n",
       "        vertical-align: top;\n",
       "    }\n",
       "\n",
       "    .dataframe thead th {\n",
       "        text-align: right;\n",
       "    }\n",
       "</style>\n",
       "<table border=\"1\" class=\"dataframe\">\n",
       "  <thead>\n",
       "    <tr style=\"text-align: right;\">\n",
       "      <th>socialising_week</th>\n",
       "      <th>0</th>\n",
       "      <th>1</th>\n",
       "      <th>2</th>\n",
       "      <th>3</th>\n",
       "      <th>4+</th>\n",
       "      <th>Only weekends</th>\n",
       "    </tr>\n",
       "    <tr>\n",
       "      <th>accommodation_status</th>\n",
       "      <th></th>\n",
       "      <th></th>\n",
       "      <th></th>\n",
       "      <th></th>\n",
       "      <th></th>\n",
       "      <th></th>\n",
       "    </tr>\n",
       "  </thead>\n",
       "  <tbody>\n",
       "    <tr>\n",
       "      <th>Non-private accommodation ie. Res</th>\n",
       "      <td>2</td>\n",
       "      <td>12</td>\n",
       "      <td>15</td>\n",
       "      <td>5</td>\n",
       "      <td>3</td>\n",
       "      <td>11</td>\n",
       "    </tr>\n",
       "    <tr>\n",
       "      <th>Private accommodation/ stay with family/friends</th>\n",
       "      <td>14</td>\n",
       "      <td>89</td>\n",
       "      <td>70</td>\n",
       "      <td>52</td>\n",
       "      <td>13</td>\n",
       "      <td>97</td>\n",
       "    </tr>\n",
       "  </tbody>\n",
       "</table>\n",
       "</div>"
      ],
      "text/plain": [
       "socialising_week                                  0   1   2   3  4+  \\\n",
       "accommodation_status                                                  \n",
       "Non-private accommodation ie. Res                 2  12  15   5   3   \n",
       "Private accommodation/ stay with family/friends  14  89  70  52  13   \n",
       "\n",
       "socialising_week                                 Only weekends  \n",
       "accommodation_status                                            \n",
       "Non-private accommodation ie. Res                           11  \n",
       "Private accommodation/ stay with family/friends             97  "
      ]
     },
     "execution_count": 12,
     "metadata": {},
     "output_type": "execute_result"
    }
   ],
   "source": [
    "table = pd.crosstab(student_data.accommodation_status, student_data.socialising_week)\n",
    "table"
   ]
  },
  {
   "cell_type": "code",
   "execution_count": 13,
   "id": "f2b454e0-7cc9-4373-9fb0-9b0463dcf8f1",
   "metadata": {},
   "outputs": [
    {
     "data": {
      "text/plain": [
       "<Axes: xlabel='socialising_week', ylabel='accommodation_status'>"
      ]
     },
     "execution_count": 13,
     "metadata": {},
     "output_type": "execute_result"
    },
    {
     "data": {
      "image/png": "[encoded data removed]",
      "text/plain": [
       "<Figure size 640x480 with 2 Axes>"
      ]
     },
     "metadata": {},
     "output_type": "display_data"
    }
   ],
   "source": [
    "sns.heatmap(table, annot = True, cmap = \"twilight\")"
   ]
  },
  {
   "cell_type": "markdown",
   "id": "2c0737ed-48f2-4e65-ad84-ece20bf36b17",
   "metadata": {},
   "source": [
    "* During weekends, students stating with their friends and family anre 9 time more likely to party compared to hosrelers.\n",
    "* In an average, privately housed student party more than 7 times than student living in college."
   ]
  },
  {
   "cell_type": "code",
   "execution_count": null,
   "id": "0cb1e368-d567-474c-b399-8bc80e87482c",
   "metadata": {},
   "outputs": [],
   "source": []
  },
  {
   "cell_type": "code",
   "execution_count": 18,
   "id": "362a30b2-637d-4f43-a494-ed3f951e7d16",
   "metadata": {},
   "outputs": [
    {
     "name": "stdout",
     "output_type": "stream",
     "text": [
      "3.9099046455825284\n",
      "0.5624591514521107\n"
     ]
    }
   ],
   "source": [
    "score, p_val,_,_ = stats.chi2_contingency(table)\n",
    "print(score)\n",
    "print(p_val)"
   ]
  },
  {
   "cell_type": "code",
   "execution_count": null,
   "id": "71e50a16-e093-4392-b378-e57147155bab",
   "metadata": {},
   "outputs": [],
   "source": []
  },
  {
   "cell_type": "code",
   "execution_count": null,
   "id": "13b9de0a-065a-4582-99a9-f0d3ed4a8748",
   "metadata": {},
   "outputs": [],
   "source": []
  },
  {
   "cell_type": "markdown",
   "id": "a50d506a-e197-4150-936d-308cc40d2560",
   "metadata": {},
   "source": [
    "#### Influence of Gender on GPA"
   ]
  },
  {
   "cell_type": "code",
   "execution_count": 24,
   "id": "250f76d4-8320-4dd1-80a3-0fd64bdee089",
   "metadata": {},
   "outputs": [
    {
     "data": {
      "text/html": [
       "<div>\n",
       "<style scoped>\n",
       "    .dataframe tbody tr th:only-of-type {\n",
       "        vertical-align: middle;\n",
       "    }\n",
       "\n",
       "    .dataframe tbody tr th {\n",
       "        vertical-align: top;\n",
       "    }\n",
       "\n",
       "    .dataframe thead th {\n",
       "        text-align: right;\n",
       "    }\n",
       "</style>\n",
       "<table border=\"1\" class=\"dataframe\">\n",
       "  <thead>\n",
       "    <tr style=\"text-align: right;\">\n",
       "      <th></th>\n",
       "      <th>min</th>\n",
       "      <th>mean</th>\n",
       "      <th>std</th>\n",
       "      <th>median</th>\n",
       "    </tr>\n",
       "    <tr>\n",
       "      <th>sex</th>\n",
       "      <th></th>\n",
       "      <th></th>\n",
       "      <th></th>\n",
       "      <th></th>\n",
       "    </tr>\n",
       "  </thead>\n",
       "  <tbody>\n",
       "    <tr>\n",
       "      <th>Female</th>\n",
       "      <td>50.0</td>\n",
       "      <td>67.596067</td>\n",
       "      <td>8.834404</td>\n",
       "      <td>67.0</td>\n",
       "    </tr>\n",
       "    <tr>\n",
       "      <th>Male</th>\n",
       "      <td>30.0</td>\n",
       "      <td>65.097059</td>\n",
       "      <td>9.284666</td>\n",
       "      <td>64.0</td>\n",
       "    </tr>\n",
       "  </tbody>\n",
       "</table>\n",
       "</div>"
      ],
      "text/plain": [
       "         min       mean       std  median\n",
       "sex                                      \n",
       "Female  50.0  67.596067  8.834404    67.0\n",
       "Male    30.0  65.097059  9.284666    64.0"
      ]
     },
     "execution_count": 24,
     "metadata": {},
     "output_type": "execute_result"
    }
   ],
   "source": [
    "student_data.groupby(\"sex\")['gpa_%_2023'].agg(('min','mean','std', 'median'))"
   ]
  },
  {
   "cell_type": "code",
   "execution_count": 23,
   "id": "30fdc255-2595-4e78-8aa1-3ae7a558d0e9",
   "metadata": {},
   "outputs": [
    {
     "data": {
      "text/plain": [
       "<Axes: xlabel='gpa_%_2023', ylabel='sex'>"
      ]
     },
     "execution_count": 23,
     "metadata": {},
     "output_type": "execute_result"
    },
    {
     "data": {
      "image/png": "[encoded data removed]",
      "text/plain": [
       "<Figure size 640x480 with 1 Axes>"
      ]
     },
     "metadata": {},
     "output_type": "display_data"
    }
   ],
   "source": [
    "sns.boxplot(x= \"gpa_%_2023\", y = 'sex', data= student_data)"
   ]
  },
  {
   "cell_type": "code",
   "execution_count": null,
   "id": "9d9b5b26-c0e0-4b72-8c70-97b53d590690",
   "metadata": {},
   "outputs": [],
   "source": []
  },
  {
   "cell_type": "code",
   "execution_count": 25,
   "id": "92b020b4-7c36-4ee4-b4e7-48531dc2a7ed",
   "metadata": {},
   "outputs": [
    {
     "data": {
      "text/plain": [
       "scholarship\n",
       "No                     352\n",
       "Yes (NSFAS, etc...)     46\n",
       "Name: count, dtype: int64"
      ]
     },
     "execution_count": 25,
     "metadata": {},
     "output_type": "execute_result"
    }
   ],
   "source": [
    "student_data.scholarship.value_counts()"
   ]
  },
  {
   "cell_type": "code",
   "execution_count": 26,
   "id": "e8815812-b5ce-4d69-88f8-d17cc2332d47",
   "metadata": {},
   "outputs": [
    {
     "data": {
      "text/plain": [
       "modules_failed\n",
       "0     263\n",
       "1      58\n",
       "2      31\n",
       "4+     27\n",
       "3      24\n",
       "Name: count, dtype: int64"
      ]
     },
     "execution_count": 26,
     "metadata": {},
     "output_type": "execute_result"
    }
   ],
   "source": [
    "student_data.modules_failed.value_counts()"
   ]
  },
  {
   "cell_type": "code",
   "execution_count": 27,
   "id": "842c9a8c-7699-486a-9056-0e21873b502d",
   "metadata": {},
   "outputs": [
    {
     "data": {
      "text/html": [
       "<div>\n",
       "<style scoped>\n",
       "    .dataframe tbody tr th:only-of-type {\n",
       "        vertical-align: middle;\n",
       "    }\n",
       "\n",
       "    .dataframe tbody tr th {\n",
       "        vertical-align: top;\n",
       "    }\n",
       "\n",
       "    .dataframe thead th {\n",
       "        text-align: right;\n",
       "    }\n",
       "</style>\n",
       "<table border=\"1\" class=\"dataframe\">\n",
       "  <thead>\n",
       "    <tr style=\"text-align: right;\">\n",
       "      <th>modules_failed</th>\n",
       "      <th>0</th>\n",
       "      <th>1</th>\n",
       "      <th>2</th>\n",
       "      <th>3</th>\n",
       "      <th>4+</th>\n",
       "    </tr>\n",
       "    <tr>\n",
       "      <th>scholarship</th>\n",
       "      <th></th>\n",
       "      <th></th>\n",
       "      <th></th>\n",
       "      <th></th>\n",
       "      <th></th>\n",
       "    </tr>\n",
       "  </thead>\n",
       "  <tbody>\n",
       "    <tr>\n",
       "      <th>No</th>\n",
       "      <td>230</td>\n",
       "      <td>49</td>\n",
       "      <td>29</td>\n",
       "      <td>20</td>\n",
       "      <td>23</td>\n",
       "    </tr>\n",
       "    <tr>\n",
       "      <th>Yes (NSFAS, etc...)</th>\n",
       "      <td>27</td>\n",
       "      <td>9</td>\n",
       "      <td>2</td>\n",
       "      <td>4</td>\n",
       "      <td>4</td>\n",
       "    </tr>\n",
       "  </tbody>\n",
       "</table>\n",
       "</div>"
      ],
      "text/plain": [
       "modules_failed         0   1   2   3  4+\n",
       "scholarship                             \n",
       "No                   230  49  29  20  23\n",
       "Yes (NSFAS, etc...)   27   9   2   4   4"
      ]
     },
     "execution_count": 27,
     "metadata": {},
     "output_type": "execute_result"
    }
   ],
   "source": [
    "table = pd.crosstab(student_data.scholarship, student_data.modules_failed)\n",
    "table"
   ]
  },
  {
   "cell_type": "code",
   "execution_count": 31,
   "id": "5cfadf52-3539-41b5-8f8a-0fce348dcee6",
   "metadata": {},
   "outputs": [],
   "source": [
    "# <<write Drscription>>"
   ]
  },
  {
   "cell_type": "code",
   "execution_count": null,
   "id": "400e6d9c-18d3-42d8-b2ac-53a7220f4e93",
   "metadata": {},
   "outputs": [],
   "source": []
  },
  {
   "cell_type": "code",
   "execution_count": 36,
   "id": "57fa324e-c432-4119-bb4c-e1d5b11f844f",
   "metadata": {},
   "outputs": [
    {
     "data": {
      "text/plain": [
       "<Axes: xlabel='matric_gpa_%', ylabel='gpa_%_2023'>"
      ]
     },
     "execution_count": 36,
     "metadata": {},
     "output_type": "execute_result"
    },
    {
     "data": {
      "image/png": "[encoded data removed]",
      "text/plain": [
       "<Figure size 640x480 with 1 Axes>"
      ]
     },
     "metadata": {},
     "output_type": "display_data"
    }
   ],
   "source": [
    "student_data.plot.scatter(\"matric_gpa_%\", \"gpa_%_2023\")\n",
    "sns.regplot(x='matric_gpa_%', y = 'gpa_%_2023', data= student_data) # give line in plot"
   ]
  },
  {
   "cell_type": "code",
   "execution_count": 38,
   "id": "7073a333-ac5f-40f3-a285-5b2a9e3b1e2c",
   "metadata": {},
   "outputs": [
    {
     "data": {
      "text/html": [
       "<div>\n",
       "<style scoped>\n",
       "    .dataframe tbody tr th:only-of-type {\n",
       "        vertical-align: middle;\n",
       "    }\n",
       "\n",
       "    .dataframe tbody tr th {\n",
       "        vertical-align: top;\n",
       "    }\n",
       "\n",
       "    .dataframe thead th {\n",
       "        text-align: right;\n",
       "    }\n",
       "</style>\n",
       "<table border=\"1\" class=\"dataframe\">\n",
       "  <thead>\n",
       "    <tr style=\"text-align: right;\">\n",
       "      <th></th>\n",
       "      <th>matric_gpa_%</th>\n",
       "      <th>gpa_%_2023</th>\n",
       "    </tr>\n",
       "  </thead>\n",
       "  <tbody>\n",
       "    <tr>\n",
       "      <th>matric_gpa_%</th>\n",
       "      <td>1.000000</td>\n",
       "      <td>0.299104</td>\n",
       "    </tr>\n",
       "    <tr>\n",
       "      <th>gpa_%_2023</th>\n",
       "      <td>0.299104</td>\n",
       "      <td>1.000000</td>\n",
       "    </tr>\n",
       "  </tbody>\n",
       "</table>\n",
       "</div>"
      ],
      "text/plain": [
       "              matric_gpa_%  gpa_%_2023\n",
       "matric_gpa_%      1.000000    0.299104\n",
       "gpa_%_2023        0.299104    1.000000"
      ]
     },
     "execution_count": 38,
     "metadata": {},
     "output_type": "execute_result"
    }
   ],
   "source": [
    "student_data[[\"matric_gpa_%\", \"gpa_%_2023\"]].corr()"
   ]
  },
  {
   "cell_type": "code",
   "execution_count": null,
   "id": "7b40f3ee-ada2-4187-80a2-221ffd38b60f",
   "metadata": {},
   "outputs": [],
   "source": []
  },
  {
   "cell_type": "code",
   "execution_count": 39,
   "id": "4b1d8802-738f-4281-ac6c-5965d7d52d62",
   "metadata": {},
   "outputs": [
    {
     "data": {
      "text/plain": [
       "timestamp                0\n",
       "sex                      2\n",
       "matric_gpa_%             7\n",
       "study_year              73\n",
       "faculty                  7\n",
       "gpa_%_2023              86\n",
       "accommodation_status    23\n",
       "monthly_allowance       31\n",
       "scholarship              8\n",
       "study_hours_week         3\n",
       "socialising_week         2\n",
       "drinks_night             2\n",
       "classes_missed           3\n",
       "modules_failed           3\n",
       "in_relationship          3\n",
       "parental_approval        4\n",
       "relationship_parents     3\n",
       "dtype: int64"
      ]
     },
     "execution_count": 39,
     "metadata": {},
     "output_type": "execute_result"
    }
   ],
   "source": [
    "student_data.isna().sum()"
   ]
  },
  {
   "cell_type": "code",
   "execution_count": null,
   "id": "8209bb11-78c0-4850-81a8-e317becf2235",
   "metadata": {},
   "outputs": [],
   "source": []
  },
  {
   "cell_type": "code",
   "execution_count": null,
   "id": "488dc43e-4b2e-4032-ae6f-a40458f4c2fe",
   "metadata": {},
   "outputs": [],
   "source": []
  }
 ],
 "metadata": {
  "kernelspec": {
   "display_name": "Python 3 (ipykernel)",
   "language": "python",
   "name": "python3"
  },
  "language_info": {
   "codemirror_mode": {
    "name": "ipython",
    "version": 3
   },
   "file_extension": ".py",
   "mimetype": "text/x-python",
   "name": "python",
   "nbconvert_exporter": "python",
   "pygments_lexer": "ipython3",
   "version": "3.11.10"
  }
 },
 "nbformat": 4,
 "nbformat_minor": 5
}
