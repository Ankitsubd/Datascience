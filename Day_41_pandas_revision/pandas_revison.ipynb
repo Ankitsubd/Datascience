{
 "cells": [
  {
   "cell_type": "code",
   "execution_count": 45,
   "id": "3ecd267c-b23f-4fdd-b324-43f897cfac54",
   "metadata": {},
   "outputs": [],
   "source": [
    "import numpy as np\n",
    "import pandas as pd\n",
    "import seaborn as sns\n",
    "import scipy.stats as stats"
   ]
  },
  {
   "cell_type": "code",
   "execution_count": 2,
   "id": "802fd699-08d5-461e-b45f-bb9ca5f4dc1f",
   "metadata": {},
   "outputs": [],
   "source": [
    "columns_name = [\n",
    "    'timestamp','sex','matric_gpa_%' ,'study_year','faculty','gpa_%_2023','accommodation_status',\n",
    "    'monthly_allowance','scholarship','study_hours_week','socialising_week','drinks_night',\n",
    "    'classes_missed','modules_failed','in_relationship','parental_approval','relationship_parents'\n",
    "]\n",
    "\n",
    "student_data = pd.read_csv(\"Stats survey.csv\", names = columns_name, header = 0)"
   ]
  },
  {
   "cell_type": "code",
   "execution_count": 3,
   "id": "ac346106-1646-427e-a267-6e23f9f19f32",
   "metadata": {},
   "outputs": [
    {
     "data": {
      "text/html": [
       "<div>\n",
       "<style scoped>\n",
       "    .dataframe tbody tr th:only-of-type {\n",
       "        vertical-align: middle;\n",
       "    }\n",
       "\n",
       "    .dataframe tbody tr th {\n",
       "        vertical-align: top;\n",
       "    }\n",
       "\n",
       "    .dataframe thead th {\n",
       "        text-align: right;\n",
       "    }\n",
       "</style>\n",
       "<table border=\"1\" class=\"dataframe\">\n",
       "  <thead>\n",
       "    <tr style=\"text-align: right;\">\n",
       "      <th></th>\n",
       "      <th>timestamp</th>\n",
       "      <th>sex</th>\n",
       "      <th>matric_gpa_%</th>\n",
       "      <th>study_year</th>\n",
       "      <th>faculty</th>\n",
       "      <th>gpa_%_2023</th>\n",
       "      <th>accommodation_status</th>\n",
       "      <th>monthly_allowance</th>\n",
       "      <th>scholarship</th>\n",
       "      <th>study_hours_week</th>\n",
       "      <th>socialising_week</th>\n",
       "      <th>drinks_night</th>\n",
       "      <th>classes_missed</th>\n",
       "      <th>modules_failed</th>\n",
       "      <th>in_relationship</th>\n",
       "      <th>parental_approval</th>\n",
       "      <th>relationship_parents</th>\n",
       "    </tr>\n",
       "  </thead>\n",
       "  <tbody>\n",
       "    <tr>\n",
       "      <th>0</th>\n",
       "      <td>2024/03/07 5:12:01 pm EET</td>\n",
       "      <td>Female</td>\n",
       "      <td>76.0</td>\n",
       "      <td>2nd Year</td>\n",
       "      <td>Arts &amp; Social Sciences</td>\n",
       "      <td>72.0</td>\n",
       "      <td>Private accommodation/ stay with family/friends</td>\n",
       "      <td>R 4001- R 5000</td>\n",
       "      <td>No</td>\n",
       "      <td>8+</td>\n",
       "      <td>Only weekends</td>\n",
       "      <td>8+</td>\n",
       "      <td>3</td>\n",
       "      <td>0</td>\n",
       "      <td>Yes</td>\n",
       "      <td>Yes</td>\n",
       "      <td>Very close</td>\n",
       "    </tr>\n",
       "    <tr>\n",
       "      <th>1</th>\n",
       "      <td>2024/03/07 5:12:08 pm EET</td>\n",
       "      <td>Male</td>\n",
       "      <td>89.0</td>\n",
       "      <td>2nd Year</td>\n",
       "      <td>Economic &amp; Management Sciences</td>\n",
       "      <td>75.0</td>\n",
       "      <td>Private accommodation/ stay with family/friends</td>\n",
       "      <td>R 7001 - R 8000</td>\n",
       "      <td>Yes (NSFAS, etc...)</td>\n",
       "      <td>8+</td>\n",
       "      <td>Only weekends</td>\n",
       "      <td>3-5</td>\n",
       "      <td>4+</td>\n",
       "      <td>0</td>\n",
       "      <td>No</td>\n",
       "      <td>Yes</td>\n",
       "      <td>Very close</td>\n",
       "    </tr>\n",
       "    <tr>\n",
       "      <th>2</th>\n",
       "      <td>2024/03/07 5:12:25 pm EET</td>\n",
       "      <td>Male</td>\n",
       "      <td>76.0</td>\n",
       "      <td>1st Year</td>\n",
       "      <td>AgriSciences</td>\n",
       "      <td>55.0</td>\n",
       "      <td>Private accommodation/ stay with family/friends</td>\n",
       "      <td>R 4001- R 5000</td>\n",
       "      <td>No</td>\n",
       "      <td>3-5</td>\n",
       "      <td>2</td>\n",
       "      <td>8+</td>\n",
       "      <td>3</td>\n",
       "      <td>0</td>\n",
       "      <td>No</td>\n",
       "      <td>Yes</td>\n",
       "      <td>Very close</td>\n",
       "    </tr>\n",
       "    <tr>\n",
       "      <th>3</th>\n",
       "      <td>2024/03/07 5:12:28 pm EET</td>\n",
       "      <td>Male</td>\n",
       "      <td>89.0</td>\n",
       "      <td>2nd Year</td>\n",
       "      <td>Engineering</td>\n",
       "      <td>84.0</td>\n",
       "      <td>Private accommodation/ stay with family/friends</td>\n",
       "      <td>R 6001 - R 7000</td>\n",
       "      <td>No</td>\n",
       "      <td>3-5</td>\n",
       "      <td>3</td>\n",
       "      <td>8+</td>\n",
       "      <td>2</td>\n",
       "      <td>0</td>\n",
       "      <td>Yes</td>\n",
       "      <td>Yes</td>\n",
       "      <td>Very close</td>\n",
       "    </tr>\n",
       "    <tr>\n",
       "      <th>4</th>\n",
       "      <td>2024/03/07 5:13:00 pm EET</td>\n",
       "      <td>Female</td>\n",
       "      <td>74.0</td>\n",
       "      <td>2nd Year</td>\n",
       "      <td>Arts &amp; Social Sciences</td>\n",
       "      <td>52.0</td>\n",
       "      <td>Private accommodation/ stay with family/friends</td>\n",
       "      <td>R 4001- R 5000</td>\n",
       "      <td>No</td>\n",
       "      <td>3-5</td>\n",
       "      <td>Only weekends</td>\n",
       "      <td>5-8</td>\n",
       "      <td>1</td>\n",
       "      <td>3</td>\n",
       "      <td>No</td>\n",
       "      <td>Yes</td>\n",
       "      <td>Fair</td>\n",
       "    </tr>\n",
       "  </tbody>\n",
       "</table>\n",
       "</div>"
      ],
      "text/plain": [
       "                   timestamp     sex  matric_gpa_% study_year  \\\n",
       "0  2024/03/07 5:12:01 pm EET  Female          76.0   2nd Year   \n",
       "1  2024/03/07 5:12:08 pm EET    Male          89.0   2nd Year   \n",
       "2  2024/03/07 5:12:25 pm EET    Male          76.0   1st Year   \n",
       "3  2024/03/07 5:12:28 pm EET    Male          89.0   2nd Year   \n",
       "4  2024/03/07 5:13:00 pm EET  Female          74.0   2nd Year   \n",
       "\n",
       "                          faculty  gpa_%_2023  \\\n",
       "0          Arts & Social Sciences        72.0   \n",
       "1  Economic & Management Sciences        75.0   \n",
       "2                    AgriSciences        55.0   \n",
       "3                     Engineering        84.0   \n",
       "4          Arts & Social Sciences        52.0   \n",
       "\n",
       "                              accommodation_status monthly_allowance  \\\n",
       "0  Private accommodation/ stay with family/friends    R 4001- R 5000   \n",
       "1  Private accommodation/ stay with family/friends   R 7001 - R 8000   \n",
       "2  Private accommodation/ stay with family/friends    R 4001- R 5000   \n",
       "3  Private accommodation/ stay with family/friends   R 6001 - R 7000   \n",
       "4  Private accommodation/ stay with family/friends    R 4001- R 5000   \n",
       "\n",
       "           scholarship study_hours_week socialising_week drinks_night  \\\n",
       "0                   No               8+    Only weekends           8+   \n",
       "1  Yes (NSFAS, etc...)               8+    Only weekends          3-5   \n",
       "2                   No              3-5                2           8+   \n",
       "3                   No              3-5                3           8+   \n",
       "4                   No              3-5    Only weekends          5-8   \n",
       "\n",
       "  classes_missed modules_failed in_relationship parental_approval  \\\n",
       "0              3              0             Yes               Yes   \n",
       "1             4+              0              No               Yes   \n",
       "2              3              0              No               Yes   \n",
       "3              2              0             Yes               Yes   \n",
       "4              1              3              No               Yes   \n",
       "\n",
       "  relationship_parents  \n",
       "0           Very close  \n",
       "1           Very close  \n",
       "2           Very close  \n",
       "3           Very close  \n",
       "4                 Fair  "
      ]
     },
     "execution_count": 3,
     "metadata": {},
     "output_type": "execute_result"
    }
   ],
   "source": [
    "student_data.head()"
   ]
  },
  {
   "cell_type": "markdown",
   "id": "a9b6aa76-3bac-4e61-bbe8-67d1c4c6e0fb",
   "metadata": {},
   "source": [
    "#### Exploratory Data Analysis (EDA)\n",
    "\n",
    "* shape( row, columns )\n",
    "* data types\n",
    "* no. of missing values\n",
    "* categorical value counts\n",
    "* visualization\n",
    "* correlation\n",
    "* outliers"
   ]
  },
  {
   "cell_type": "code",
   "execution_count": 4,
   "id": "aeaa1e43-b4f8-433b-8e93-679ece194da0",
   "metadata": {},
   "outputs": [
    {
     "name": "stdout",
     "output_type": "stream",
     "text": [
      "<class 'pandas.core.frame.DataFrame'>\n",
      "RangeIndex: 406 entries, 0 to 405\n",
      "Data columns (total 17 columns):\n",
      " #   Column                Non-Null Count  Dtype  \n",
      "---  ------                --------------  -----  \n",
      " 0   timestamp             406 non-null    object \n",
      " 1   sex                   404 non-null    object \n",
      " 2   matric_gpa_%          399 non-null    float64\n",
      " 3   study_year            333 non-null    object \n",
      " 4   faculty               399 non-null    object \n",
      " 5   gpa_%_2023            320 non-null    float64\n",
      " 6   accommodation_status  383 non-null    object \n",
      " 7   monthly_allowance     375 non-null    object \n",
      " 8   scholarship           398 non-null    object \n",
      " 9   study_hours_week      403 non-null    object \n",
      " 10  socialising_week      404 non-null    object \n",
      " 11  drinks_night          404 non-null    object \n",
      " 12  classes_missed        403 non-null    object \n",
      " 13  modules_failed        403 non-null    object \n",
      " 14  in_relationship       403 non-null    object \n",
      " 15  parental_approval     402 non-null    object \n",
      " 16  relationship_parents  403 non-null    object \n",
      "dtypes: float64(2), object(15)\n",
      "memory usage: 54.1+ KB\n"
     ]
    }
   ],
   "source": [
    "student_data.info()"
   ]
  },
  {
   "cell_type": "code",
   "execution_count": 5,
   "id": "7176cb07-699a-45ee-9736-34534f41240b",
   "metadata": {},
   "outputs": [
    {
     "data": {
      "text/plain": [
       "sex\n",
       "Male      0.534653\n",
       "Female    0.465347\n",
       "Name: proportion, dtype: float64"
      ]
     },
     "execution_count": 5,
     "metadata": {},
     "output_type": "execute_result"
    }
   ],
   "source": [
    "student_data['sex'].value_counts(normalize= True)"
   ]
  },
  {
   "cell_type": "markdown",
   "id": "6c63f218-d046-4a6f-b0da-8dd7b7314994",
   "metadata": {},
   "source": [
    "In this survey, there is 53% of male and 47% of female population."
   ]
  },
  {
   "cell_type": "code",
   "execution_count": 6,
   "id": "2870aaf4-55a7-44d2-96fb-83a36e481f4a",
   "metadata": {},
   "outputs": [
    {
     "data": {
      "text/html": [
       "<div>\n",
       "<style scoped>\n",
       "    .dataframe tbody tr th:only-of-type {\n",
       "        vertical-align: middle;\n",
       "    }\n",
       "\n",
       "    .dataframe tbody tr th {\n",
       "        vertical-align: top;\n",
       "    }\n",
       "\n",
       "    .dataframe thead th {\n",
       "        text-align: right;\n",
       "    }\n",
       "</style>\n",
       "<table border=\"1\" class=\"dataframe\">\n",
       "  <thead>\n",
       "    <tr style=\"text-align: right;\">\n",
       "      <th>relationship_parents</th>\n",
       "      <th>Close</th>\n",
       "      <th>Distant</th>\n",
       "      <th>Fair</th>\n",
       "      <th>Very close</th>\n",
       "    </tr>\n",
       "    <tr>\n",
       "      <th>parental_approval</th>\n",
       "      <th></th>\n",
       "      <th></th>\n",
       "      <th></th>\n",
       "      <th></th>\n",
       "    </tr>\n",
       "  </thead>\n",
       "  <tbody>\n",
       "    <tr>\n",
       "      <th>No</th>\n",
       "      <td>18</td>\n",
       "      <td>1</td>\n",
       "      <td>9</td>\n",
       "      <td>20</td>\n",
       "    </tr>\n",
       "    <tr>\n",
       "      <th>Yes</th>\n",
       "      <td>79</td>\n",
       "      <td>1</td>\n",
       "      <td>25</td>\n",
       "      <td>248</td>\n",
       "    </tr>\n",
       "  </tbody>\n",
       "</table>\n",
       "</div>"
      ],
      "text/plain": [
       "relationship_parents  Close  Distant  Fair  Very close\n",
       "parental_approval                                     \n",
       "No                       18        1     9          20\n",
       "Yes                      79        1    25         248"
      ]
     },
     "execution_count": 6,
     "metadata": {},
     "output_type": "execute_result"
    }
   ],
   "source": [
    "table = pd.crosstab(student_data.parental_approval, student_data.relationship_parents)\n",
    "table"
   ]
  },
  {
   "cell_type": "code",
   "execution_count": 7,
   "id": "76d80a77-5162-49b6-90e4-bfe94b71d4b0",
   "metadata": {},
   "outputs": [
    {
     "data": {
      "text/plain": [
       "<Axes: xlabel='relationship_parents'>"
      ]
     },
     "execution_count": 7,
     "metadata": {},
     "output_type": "execute_result"
    },
    {
     "data": {
      "image/png": "[encoded data removed]",
      "text/plain": [
       "<Figure size 640x480 with 1 Axes>"
      ]
     },
     "metadata": {},
     "output_type": "display_data"
    }
   ],
   "source": [
    "table.T.plot.line()"
   ]
  },
  {
   "cell_type": "code",
   "execution_count": 8,
   "id": "772b0c19-b2b2-48e6-ac42-f65771ad3908",
   "metadata": {},
   "outputs": [
    {
     "data": {
      "text/plain": [
       "faculty\n",
       "Economic & Management Sciences    211\n",
       "Science                            56\n",
       "Arts & Social Sciences             47\n",
       "Engineering                        37\n",
       "AgriSciences                       22\n",
       "Medicine and Health Services       10\n",
       "Law                                10\n",
       "Education                           6\n",
       "Name: count, dtype: int64"
      ]
     },
     "execution_count": 8,
     "metadata": {},
     "output_type": "execute_result"
    }
   ],
   "source": [
    "student_data.faculty.value_counts()"
   ]
  },
  {
   "cell_type": "code",
   "execution_count": 9,
   "id": "9b2706cb-eae0-4e37-b71a-f1093b1bce4b",
   "metadata": {},
   "outputs": [
    {
     "data": {
      "text/html": [
       "<div>\n",
       "<style scoped>\n",
       "    .dataframe tbody tr th:only-of-type {\n",
       "        vertical-align: middle;\n",
       "    }\n",
       "\n",
       "    .dataframe tbody tr th {\n",
       "        vertical-align: top;\n",
       "    }\n",
       "\n",
       "    .dataframe thead th {\n",
       "        text-align: right;\n",
       "    }\n",
       "</style>\n",
       "<table border=\"1\" class=\"dataframe\">\n",
       "  <thead>\n",
       "    <tr style=\"text-align: right;\">\n",
       "      <th></th>\n",
       "      <th>min</th>\n",
       "      <th>max</th>\n",
       "      <th>mean</th>\n",
       "    </tr>\n",
       "    <tr>\n",
       "      <th>faculty</th>\n",
       "      <th></th>\n",
       "      <th></th>\n",
       "      <th></th>\n",
       "    </tr>\n",
       "  </thead>\n",
       "  <tbody>\n",
       "    <tr>\n",
       "      <th>AgriSciences</th>\n",
       "      <td>66.0</td>\n",
       "      <td>86.0</td>\n",
       "      <td>74.772727</td>\n",
       "    </tr>\n",
       "    <tr>\n",
       "      <th>Arts &amp; Social Sciences</th>\n",
       "      <td>60.0</td>\n",
       "      <td>85.0</td>\n",
       "      <td>75.969565</td>\n",
       "    </tr>\n",
       "    <tr>\n",
       "      <th>Economic &amp; Management Sciences</th>\n",
       "      <td>34.0</td>\n",
       "      <td>99.0</td>\n",
       "      <td>76.977095</td>\n",
       "    </tr>\n",
       "    <tr>\n",
       "      <th>Education</th>\n",
       "      <td>71.0</td>\n",
       "      <td>82.0</td>\n",
       "      <td>76.000000</td>\n",
       "    </tr>\n",
       "    <tr>\n",
       "      <th>Engineering</th>\n",
       "      <td>73.0</td>\n",
       "      <td>98.0</td>\n",
       "      <td>83.691667</td>\n",
       "    </tr>\n",
       "    <tr>\n",
       "      <th>Law</th>\n",
       "      <td>72.0</td>\n",
       "      <td>90.0</td>\n",
       "      <td>80.200000</td>\n",
       "    </tr>\n",
       "    <tr>\n",
       "      <th>Medicine and Health Services</th>\n",
       "      <td>73.0</td>\n",
       "      <td>85.0</td>\n",
       "      <td>79.888889</td>\n",
       "    </tr>\n",
       "    <tr>\n",
       "      <th>Science</th>\n",
       "      <td>65.0</td>\n",
       "      <td>92.0</td>\n",
       "      <td>80.294727</td>\n",
       "    </tr>\n",
       "  </tbody>\n",
       "</table>\n",
       "</div>"
      ],
      "text/plain": [
       "                                 min   max       mean\n",
       "faculty                                              \n",
       "AgriSciences                    66.0  86.0  74.772727\n",
       "Arts & Social Sciences          60.0  85.0  75.969565\n",
       "Economic & Management Sciences  34.0  99.0  76.977095\n",
       "Education                       71.0  82.0  76.000000\n",
       "Engineering                     73.0  98.0  83.691667\n",
       "Law                             72.0  90.0  80.200000\n",
       "Medicine and Health Services    73.0  85.0  79.888889\n",
       "Science                         65.0  92.0  80.294727"
      ]
     },
     "execution_count": 9,
     "metadata": {},
     "output_type": "execute_result"
    }
   ],
   "source": [
    "group_faculty = student_data.groupby(by= \"faculty\")\n",
    "# group_faculty['matric_gpa_%'].describe()\n",
    "# group_faculty['matric_gpa_%'].mean()\n",
    "infromation = group_faculty['matric_gpa_%'].aggregate(('min', 'max', 'mean')) #or .agg\n",
    "infromation\n"
   ]
  },
  {
   "cell_type": "code",
   "execution_count": 10,
   "id": "fcc91039-88ce-4996-8976-931ec2579dca",
   "metadata": {},
   "outputs": [
    {
     "data": {
      "text/plain": [
       "<Axes: xlabel='faculty'>"
      ]
     },
     "execution_count": 10,
     "metadata": {},
     "output_type": "execute_result"
    },
    {
     "data": {
      "image/png": "[encoded data removed]",
      "text/plain": [
       "<Figure size 640x480 with 1 Axes>"
      ]
     },
     "metadata": {},
     "output_type": "display_data"
    }
   ],
   "source": [
    "infromation.plot.bar()"
   ]
  },
  {
   "cell_type": "markdown",
   "id": "a3ce7c12-0e8b-400b-a5ba-3e63b41408a4",
   "metadata": {},
   "source": [
    " write Description\n",
    "\n",
    "\n",
    "\n",
    "\n",
    " ."
   ]
  },
  {
   "cell_type": "code",
   "execution_count": null,
   "id": "0a4cbf0b-372f-49db-bccc-6b5a4f0665a1",
   "metadata": {},
   "outputs": [],
   "source": []
  },
  {
   "cell_type": "code",
   "execution_count": null,
   "id": "d90a5aaf-006d-4e09-a274-f737634b06a2",
   "metadata": {},
   "outputs": [],
   "source": []
  },
  {
   "cell_type": "code",
   "execution_count": 11,
   "id": "df3f5137-ab63-45ab-a930-f2d955f2d35b",
   "metadata": {},
   "outputs": [
    {
     "data": {
      "text/plain": [
       "accommodation_status\n",
       "Private accommodation/ stay with family/friends    335\n",
       "Non-private accommodation ie. Res                   48\n",
       "Name: count, dtype: int64"
      ]
     },
     "execution_count": 11,
     "metadata": {},
     "output_type": "execute_result"
    }
   ],
   "source": [
    "student_data.accommodation_status.value_counts()"
   ]
  },
  {
   "cell_type": "code",
   "execution_count": null,
   "id": "dd51fe40-9fa5-459e-9c98-d502336af1f9",
   "metadata": {},
   "outputs": [],
   "source": []
  },
  {
   "cell_type": "code",
   "execution_count": null,
   "id": "3b68f28a-fb3c-439e-b994-f821a78c3845",
   "metadata": {},
   "outputs": [],
   "source": []
  },
  {
   "cell_type": "code",
   "execution_count": 12,
   "id": "8534035d-4d1c-4005-ac65-355e3fbbac1e",
   "metadata": {},
   "outputs": [
    {
     "data": {
      "text/html": [
       "<div>\n",
       "<style scoped>\n",
       "    .dataframe tbody tr th:only-of-type {\n",
       "        vertical-align: middle;\n",
       "    }\n",
       "\n",
       "    .dataframe tbody tr th {\n",
       "        vertical-align: top;\n",
       "    }\n",
       "\n",
       "    .dataframe thead th {\n",
       "        text-align: right;\n",
       "    }\n",
       "</style>\n",
       "<table border=\"1\" class=\"dataframe\">\n",
       "  <thead>\n",
       "    <tr style=\"text-align: right;\">\n",
       "      <th>socialising_week</th>\n",
       "      <th>0</th>\n",
       "      <th>1</th>\n",
       "      <th>2</th>\n",
       "      <th>3</th>\n",
       "      <th>4+</th>\n",
       "      <th>Only weekends</th>\n",
       "    </tr>\n",
       "    <tr>\n",
       "      <th>accommodation_status</th>\n",
       "      <th></th>\n",
       "      <th></th>\n",
       "      <th></th>\n",
       "      <th></th>\n",
       "      <th></th>\n",
       "      <th></th>\n",
       "    </tr>\n",
       "  </thead>\n",
       "  <tbody>\n",
       "    <tr>\n",
       "      <th>Non-private accommodation ie. Res</th>\n",
       "      <td>2</td>\n",
       "      <td>12</td>\n",
       "      <td>15</td>\n",
       "      <td>5</td>\n",
       "      <td>3</td>\n",
       "      <td>11</td>\n",
       "    </tr>\n",
       "    <tr>\n",
       "      <th>Private accommodation/ stay with family/friends</th>\n",
       "      <td>14</td>\n",
       "      <td>89</td>\n",
       "      <td>70</td>\n",
       "      <td>52</td>\n",
       "      <td>13</td>\n",
       "      <td>97</td>\n",
       "    </tr>\n",
       "  </tbody>\n",
       "</table>\n",
       "</div>"
      ],
      "text/plain": [
       "socialising_week                                  0   1   2   3  4+  \\\n",
       "accommodation_status                                                  \n",
       "Non-private accommodation ie. Res                 2  12  15   5   3   \n",
       "Private accommodation/ stay with family/friends  14  89  70  52  13   \n",
       "\n",
       "socialising_week                                 Only weekends  \n",
       "accommodation_status                                            \n",
       "Non-private accommodation ie. Res                           11  \n",
       "Private accommodation/ stay with family/friends             97  "
      ]
     },
     "execution_count": 12,
     "metadata": {},
     "output_type": "execute_result"
    }
   ],
   "source": [
    "table = pd.crosstab(student_data.accommodation_status, student_data.socialising_week)\n",
    "table"
   ]
  },
  {
   "cell_type": "code",
   "execution_count": 13,
   "id": "f2b454e0-7cc9-4373-9fb0-9b0463dcf8f1",
   "metadata": {},
   "outputs": [
    {
     "data": {
      "text/plain": [
       "<Axes: xlabel='socialising_week', ylabel='accommodation_status'>"
      ]
     },
     "execution_count": 13,
     "metadata": {},
     "output_type": "execute_result"
    },
    {
     "data": {
      "image/png": "[encoded data removed]",
      "text/plain": [
       "<Figure size 640x480 with 2 Axes>"
      ]
     },
     "metadata": {},
     "output_type": "display_data"
    }
   ],
   "source": [
    "sns.heatmap(table, annot = True, cmap = \"twilight\")"
   ]
  },
  {
   "cell_type": "markdown",
   "id": "2c0737ed-48f2-4e65-ad84-ece20bf36b17",
   "metadata": {},
   "source": [
    "* During weekends, students stating with their friends and family anre 9 time more likely to party compared to hosrelers.\n",
    "* In an average, privately housed student party more than 7 times than student living in college."
   ]
  },
  {
   "cell_type": "code",
   "execution_count": null,
   "id": "0cb1e368-d567-474c-b399-8bc80e87482c",
   "metadata": {},
   "outputs": [],
   "source": []
  },
  {
   "cell_type": "code",
   "execution_count": 14,
   "id": "362a30b2-637d-4f43-a494-ed3f951e7d16",
   "metadata": {},
   "outputs": [
    {
     "name": "stdout",
     "output_type": "stream",
     "text": [
      "3.9099046455825284\n",
      "0.5624591514521107\n"
     ]
    }
   ],
   "source": [
    "score, p_val,_,_ = stats.chi2_contingency(table)\n",
    "print(score)\n",
    "print(p_val)"
   ]
  },
  {
   "cell_type": "code",
   "execution_count": null,
   "id": "71e50a16-e093-4392-b378-e57147155bab",
   "metadata": {},
   "outputs": [],
   "source": []
  },
  {
   "cell_type": "code",
   "execution_count": null,
   "id": "13b9de0a-065a-4582-99a9-f0d3ed4a8748",
   "metadata": {},
   "outputs": [],
   "source": []
  },
  {
   "cell_type": "markdown",
   "id": "a50d506a-e197-4150-936d-308cc40d2560",
   "metadata": {},
   "source": [
    "#### Influence of Gender on GPA"
   ]
  },
  {
   "cell_type": "code",
   "execution_count": 15,
   "id": "250f76d4-8320-4dd1-80a3-0fd64bdee089",
   "metadata": {},
   "outputs": [
    {
     "data": {
      "text/html": [
       "<div>\n",
       "<style scoped>\n",
       "    .dataframe tbody tr th:only-of-type {\n",
       "        vertical-align: middle;\n",
       "    }\n",
       "\n",
       "    .dataframe tbody tr th {\n",
       "        vertical-align: top;\n",
       "    }\n",
       "\n",
       "    .dataframe thead th {\n",
       "        text-align: right;\n",
       "    }\n",
       "</style>\n",
       "<table border=\"1\" class=\"dataframe\">\n",
       "  <thead>\n",
       "    <tr style=\"text-align: right;\">\n",
       "      <th></th>\n",
       "      <th>min</th>\n",
       "      <th>mean</th>\n",
       "      <th>std</th>\n",
       "      <th>median</th>\n",
       "    </tr>\n",
       "    <tr>\n",
       "      <th>sex</th>\n",
       "      <th></th>\n",
       "      <th></th>\n",
       "      <th></th>\n",
       "      <th></th>\n",
       "    </tr>\n",
       "  </thead>\n",
       "  <tbody>\n",
       "    <tr>\n",
       "      <th>Female</th>\n",
       "      <td>50.0</td>\n",
       "      <td>67.596067</td>\n",
       "      <td>8.834404</td>\n",
       "      <td>67.0</td>\n",
       "    </tr>\n",
       "    <tr>\n",
       "      <th>Male</th>\n",
       "      <td>30.0</td>\n",
       "      <td>65.097059</td>\n",
       "      <td>9.284666</td>\n",
       "      <td>64.0</td>\n",
       "    </tr>\n",
       "  </tbody>\n",
       "</table>\n",
       "</div>"
      ],
      "text/plain": [
       "         min       mean       std  median\n",
       "sex                                      \n",
       "Female  50.0  67.596067  8.834404    67.0\n",
       "Male    30.0  65.097059  9.284666    64.0"
      ]
     },
     "execution_count": 15,
     "metadata": {},
     "output_type": "execute_result"
    }
   ],
   "source": [
    "student_data.groupby(\"sex\")['gpa_%_2023'].agg(('min','mean','std', 'median'))"
   ]
  },
  {
   "cell_type": "code",
   "execution_count": 16,
   "id": "30fdc255-2595-4e78-8aa1-3ae7a558d0e9",
   "metadata": {},
   "outputs": [
    {
     "data": {
      "text/plain": [
       "<Axes: xlabel='gpa_%_2023', ylabel='sex'>"
      ]
     },
     "execution_count": 16,
     "metadata": {},
     "output_type": "execute_result"
    },
    {
     "data": {
      "image/png": "[encoded data removed]",
      "text/plain": [
       "<Figure size 640x480 with 1 Axes>"
      ]
     },
     "metadata": {},
     "output_type": "display_data"
    }
   ],
   "source": [
    "sns.boxplot(x= \"gpa_%_2023\", y = 'sex', data= student_data)"
   ]
  },
  {
   "cell_type": "code",
   "execution_count": null,
   "id": "9d9b5b26-c0e0-4b72-8c70-97b53d590690",
   "metadata": {},
   "outputs": [],
   "source": []
  },
  {
   "cell_type": "code",
   "execution_count": 17,
   "id": "92b020b4-7c36-4ee4-b4e7-48531dc2a7ed",
   "metadata": {},
   "outputs": [
    {
     "data": {
      "text/plain": [
       "scholarship\n",
       "No                     352\n",
       "Yes (NSFAS, etc...)     46\n",
       "Name: count, dtype: int64"
      ]
     },
     "execution_count": 17,
     "metadata": {},
     "output_type": "execute_result"
    }
   ],
   "source": [
    "student_data.scholarship.value_counts()"
   ]
  },
  {
   "cell_type": "code",
   "execution_count": 18,
   "id": "e8815812-b5ce-4d69-88f8-d17cc2332d47",
   "metadata": {},
   "outputs": [
    {
     "data": {
      "text/plain": [
       "modules_failed\n",
       "0     263\n",
       "1      58\n",
       "2      31\n",
       "4+     27\n",
       "3      24\n",
       "Name: count, dtype: int64"
      ]
     },
     "execution_count": 18,
     "metadata": {},
     "output_type": "execute_result"
    }
   ],
   "source": [
    "student_data.modules_failed.value_counts()"
   ]
  },
  {
   "cell_type": "code",
   "execution_count": 19,
   "id": "842c9a8c-7699-486a-9056-0e21873b502d",
   "metadata": {},
   "outputs": [
    {
     "data": {
      "text/html": [
       "<div>\n",
       "<style scoped>\n",
       "    .dataframe tbody tr th:only-of-type {\n",
       "        vertical-align: middle;\n",
       "    }\n",
       "\n",
       "    .dataframe tbody tr th {\n",
       "        vertical-align: top;\n",
       "    }\n",
       "\n",
       "    .dataframe thead th {\n",
       "        text-align: right;\n",
       "    }\n",
       "</style>\n",
       "<table border=\"1\" class=\"dataframe\">\n",
       "  <thead>\n",
       "    <tr style=\"text-align: right;\">\n",
       "      <th>modules_failed</th>\n",
       "      <th>0</th>\n",
       "      <th>1</th>\n",
       "      <th>2</th>\n",
       "      <th>3</th>\n",
       "      <th>4+</th>\n",
       "    </tr>\n",
       "    <tr>\n",
       "      <th>scholarship</th>\n",
       "      <th></th>\n",
       "      <th></th>\n",
       "      <th></th>\n",
       "      <th></th>\n",
       "      <th></th>\n",
       "    </tr>\n",
       "  </thead>\n",
       "  <tbody>\n",
       "    <tr>\n",
       "      <th>No</th>\n",
       "      <td>230</td>\n",
       "      <td>49</td>\n",
       "      <td>29</td>\n",
       "      <td>20</td>\n",
       "      <td>23</td>\n",
       "    </tr>\n",
       "    <tr>\n",
       "      <th>Yes (NSFAS, etc...)</th>\n",
       "      <td>27</td>\n",
       "      <td>9</td>\n",
       "      <td>2</td>\n",
       "      <td>4</td>\n",
       "      <td>4</td>\n",
       "    </tr>\n",
       "  </tbody>\n",
       "</table>\n",
       "</div>"
      ],
      "text/plain": [
       "modules_failed         0   1   2   3  4+\n",
       "scholarship                             \n",
       "No                   230  49  29  20  23\n",
       "Yes (NSFAS, etc...)   27   9   2   4   4"
      ]
     },
     "execution_count": 19,
     "metadata": {},
     "output_type": "execute_result"
    }
   ],
   "source": [
    "table = pd.crosstab(student_data.scholarship, student_data.modules_failed)\n",
    "table"
   ]
  },
  {
   "cell_type": "code",
   "execution_count": 20,
   "id": "5cfadf52-3539-41b5-8f8a-0fce348dcee6",
   "metadata": {},
   "outputs": [],
   "source": [
    "# <<write Drscription>>"
   ]
  },
  {
   "cell_type": "code",
   "execution_count": null,
   "id": "400e6d9c-18d3-42d8-b2ac-53a7220f4e93",
   "metadata": {},
   "outputs": [],
   "source": []
  },
  {
   "cell_type": "code",
   "execution_count": 21,
   "id": "57fa324e-c432-4119-bb4c-e1d5b11f844f",
   "metadata": {},
   "outputs": [
    {
     "data": {
      "text/plain": [
       "<Axes: xlabel='matric_gpa_%', ylabel='gpa_%_2023'>"
      ]
     },
     "execution_count": 21,
     "metadata": {},
     "output_type": "execute_result"
    },
    {
     "data": {
      "image/png": "[encoded data removed]",
      "text/plain": [
       "<Figure size 640x480 with 1 Axes>"
      ]
     },
     "metadata": {},
     "output_type": "display_data"
    }
   ],
   "source": [
    "student_data.plot.scatter(\"matric_gpa_%\", \"gpa_%_2023\")\n",
    "sns.regplot(x='matric_gpa_%', y = 'gpa_%_2023', data= student_data) # give line in plot"
   ]
  },
  {
   "cell_type": "code",
   "execution_count": 22,
   "id": "7073a333-ac5f-40f3-a285-5b2a9e3b1e2c",
   "metadata": {},
   "outputs": [
    {
     "data": {
      "text/html": [
       "<div>\n",
       "<style scoped>\n",
       "    .dataframe tbody tr th:only-of-type {\n",
       "        vertical-align: middle;\n",
       "    }\n",
       "\n",
       "    .dataframe tbody tr th {\n",
       "        vertical-align: top;\n",
       "    }\n",
       "\n",
       "    .dataframe thead th {\n",
       "        text-align: right;\n",
       "    }\n",
       "</style>\n",
       "<table border=\"1\" class=\"dataframe\">\n",
       "  <thead>\n",
       "    <tr style=\"text-align: right;\">\n",
       "      <th></th>\n",
       "      <th>matric_gpa_%</th>\n",
       "      <th>gpa_%_2023</th>\n",
       "    </tr>\n",
       "  </thead>\n",
       "  <tbody>\n",
       "    <tr>\n",
       "      <th>matric_gpa_%</th>\n",
       "      <td>1.000000</td>\n",
       "      <td>0.299104</td>\n",
       "    </tr>\n",
       "    <tr>\n",
       "      <th>gpa_%_2023</th>\n",
       "      <td>0.299104</td>\n",
       "      <td>1.000000</td>\n",
       "    </tr>\n",
       "  </tbody>\n",
       "</table>\n",
       "</div>"
      ],
      "text/plain": [
       "              matric_gpa_%  gpa_%_2023\n",
       "matric_gpa_%      1.000000    0.299104\n",
       "gpa_%_2023        0.299104    1.000000"
      ]
     },
     "execution_count": 22,
     "metadata": {},
     "output_type": "execute_result"
    }
   ],
   "source": [
    "student_data[[\"matric_gpa_%\", \"gpa_%_2023\"]].corr()"
   ]
  },
  {
   "cell_type": "code",
   "execution_count": null,
   "id": "7b40f3ee-ada2-4187-80a2-221ffd38b60f",
   "metadata": {},
   "outputs": [],
   "source": []
  },
  {
   "cell_type": "code",
   "execution_count": 23,
   "id": "4b1d8802-738f-4281-ac6c-5965d7d52d62",
   "metadata": {},
   "outputs": [
    {
     "data": {
      "text/plain": [
       "timestamp                0\n",
       "sex                      2\n",
       "matric_gpa_%             7\n",
       "study_year              73\n",
       "faculty                  7\n",
       "gpa_%_2023              86\n",
       "accommodation_status    23\n",
       "monthly_allowance       31\n",
       "scholarship              8\n",
       "study_hours_week         3\n",
       "socialising_week         2\n",
       "drinks_night             2\n",
       "classes_missed           3\n",
       "modules_failed           3\n",
       "in_relationship          3\n",
       "parental_approval        4\n",
       "relationship_parents     3\n",
       "dtype: int64"
      ]
     },
     "execution_count": 23,
     "metadata": {},
     "output_type": "execute_result"
    }
   ],
   "source": [
    "student_data.isna().sum()"
   ]
  },
  {
   "cell_type": "code",
   "execution_count": null,
   "id": "8209bb11-78c0-4850-81a8-e317becf2235",
   "metadata": {},
   "outputs": [],
   "source": []
  },
  {
   "cell_type": "markdown",
   "id": "099bafbc-b4a7-409d-a4e9-2e0b3c6a144b",
   "metadata": {},
   "source": [
    "### Manipulation and/or Cleaning Data\n",
    "\n",
    "* remove unnecessary Columns\n",
    "* Null Value Handling  <- Imputation\n",
    "* Outliers Handling\n",
    "* Feature Selection"
   ]
  },
  {
   "cell_type": "code",
   "execution_count": 24,
   "id": "580c67b7-6fc7-4503-8989-bd9d9673679f",
   "metadata": {},
   "outputs": [
    {
     "name": "stdout",
     "output_type": "stream",
     "text": [
      "<class 'pandas.core.frame.DataFrame'>\n",
      "RangeIndex: 406 entries, 0 to 405\n",
      "Data columns (total 17 columns):\n",
      " #   Column                Non-Null Count  Dtype  \n",
      "---  ------                --------------  -----  \n",
      " 0   timestamp             406 non-null    object \n",
      " 1   sex                   404 non-null    object \n",
      " 2   matric_gpa_%          399 non-null    float64\n",
      " 3   study_year            333 non-null    object \n",
      " 4   faculty               399 non-null    object \n",
      " 5   gpa_%_2023            320 non-null    float64\n",
      " 6   accommodation_status  383 non-null    object \n",
      " 7   monthly_allowance     375 non-null    object \n",
      " 8   scholarship           398 non-null    object \n",
      " 9   study_hours_week      403 non-null    object \n",
      " 10  socialising_week      404 non-null    object \n",
      " 11  drinks_night          404 non-null    object \n",
      " 12  classes_missed        403 non-null    object \n",
      " 13  modules_failed        403 non-null    object \n",
      " 14  in_relationship       403 non-null    object \n",
      " 15  parental_approval     402 non-null    object \n",
      " 16  relationship_parents  403 non-null    object \n",
      "dtypes: float64(2), object(15)\n",
      "memory usage: 54.1+ KB\n"
     ]
    }
   ],
   "source": [
    "student_data.info()"
   ]
  },
  {
   "cell_type": "code",
   "execution_count": 25,
   "id": "4a443a77-326b-4e63-931d-64c5d72c0212",
   "metadata": {},
   "outputs": [],
   "source": [
    "# Deleting Timestamp Column\n",
    "student_data.drop('timestamp', axis= 1, inplace = True)"
   ]
  },
  {
   "cell_type": "code",
   "execution_count": 26,
   "id": "f9478698-c91b-4bb8-9487-5a430c7b35e8",
   "metadata": {},
   "outputs": [
    {
     "name": "stdout",
     "output_type": "stream",
     "text": [
      "<class 'pandas.core.frame.DataFrame'>\n",
      "RangeIndex: 406 entries, 0 to 405\n",
      "Data columns (total 16 columns):\n",
      " #   Column                Non-Null Count  Dtype  \n",
      "---  ------                --------------  -----  \n",
      " 0   sex                   404 non-null    object \n",
      " 1   matric_gpa_%          399 non-null    float64\n",
      " 2   study_year            333 non-null    object \n",
      " 3   faculty               399 non-null    object \n",
      " 4   gpa_%_2023            320 non-null    float64\n",
      " 5   accommodation_status  383 non-null    object \n",
      " 6   monthly_allowance     375 non-null    object \n",
      " 7   scholarship           398 non-null    object \n",
      " 8   study_hours_week      403 non-null    object \n",
      " 9   socialising_week      404 non-null    object \n",
      " 10  drinks_night          404 non-null    object \n",
      " 11  classes_missed        403 non-null    object \n",
      " 12  modules_failed        403 non-null    object \n",
      " 13  in_relationship       403 non-null    object \n",
      " 14  parental_approval     402 non-null    object \n",
      " 15  relationship_parents  403 non-null    object \n",
      "dtypes: float64(2), object(14)\n",
      "memory usage: 50.9+ KB\n"
     ]
    }
   ],
   "source": [
    "student_data.info()"
   ]
  },
  {
   "cell_type": "code",
   "execution_count": 27,
   "id": "71e3ed4c-690a-4a3d-bb71-490dd8e67712",
   "metadata": {},
   "outputs": [
    {
     "data": {
      "text/html": [
       "<div>\n",
       "<style scoped>\n",
       "    .dataframe tbody tr th:only-of-type {\n",
       "        vertical-align: middle;\n",
       "    }\n",
       "\n",
       "    .dataframe tbody tr th {\n",
       "        vertical-align: top;\n",
       "    }\n",
       "\n",
       "    .dataframe thead th {\n",
       "        text-align: right;\n",
       "    }\n",
       "</style>\n",
       "<table border=\"1\" class=\"dataframe\">\n",
       "  <thead>\n",
       "    <tr style=\"text-align: right;\">\n",
       "      <th></th>\n",
       "      <th>sex</th>\n",
       "      <th>matric_gpa_%</th>\n",
       "      <th>study_year</th>\n",
       "      <th>faculty</th>\n",
       "      <th>gpa_%_2023</th>\n",
       "      <th>accommodation_status</th>\n",
       "      <th>monthly_allowance</th>\n",
       "      <th>scholarship</th>\n",
       "      <th>study_hours_week</th>\n",
       "      <th>socialising_week</th>\n",
       "      <th>drinks_night</th>\n",
       "      <th>classes_missed</th>\n",
       "      <th>modules_failed</th>\n",
       "      <th>in_relationship</th>\n",
       "      <th>parental_approval</th>\n",
       "      <th>relationship_parents</th>\n",
       "    </tr>\n",
       "  </thead>\n",
       "  <tbody>\n",
       "    <tr>\n",
       "      <th>0</th>\n",
       "      <td>Female</td>\n",
       "      <td>76.0</td>\n",
       "      <td>2nd Year</td>\n",
       "      <td>Arts &amp; Social Sciences</td>\n",
       "      <td>72.0</td>\n",
       "      <td>Private accommodation/ stay with family/friends</td>\n",
       "      <td>R 4001- R 5000</td>\n",
       "      <td>No</td>\n",
       "      <td>8+</td>\n",
       "      <td>Only weekends</td>\n",
       "      <td>8+</td>\n",
       "      <td>3</td>\n",
       "      <td>0</td>\n",
       "      <td>Yes</td>\n",
       "      <td>Yes</td>\n",
       "      <td>Very close</td>\n",
       "    </tr>\n",
       "    <tr>\n",
       "      <th>1</th>\n",
       "      <td>Male</td>\n",
       "      <td>89.0</td>\n",
       "      <td>2nd Year</td>\n",
       "      <td>Economic &amp; Management Sciences</td>\n",
       "      <td>75.0</td>\n",
       "      <td>Private accommodation/ stay with family/friends</td>\n",
       "      <td>R 7001 - R 8000</td>\n",
       "      <td>Yes (NSFAS, etc...)</td>\n",
       "      <td>8+</td>\n",
       "      <td>Only weekends</td>\n",
       "      <td>3-5</td>\n",
       "      <td>4+</td>\n",
       "      <td>0</td>\n",
       "      <td>No</td>\n",
       "      <td>Yes</td>\n",
       "      <td>Very close</td>\n",
       "    </tr>\n",
       "    <tr>\n",
       "      <th>2</th>\n",
       "      <td>Male</td>\n",
       "      <td>76.0</td>\n",
       "      <td>1st Year</td>\n",
       "      <td>AgriSciences</td>\n",
       "      <td>55.0</td>\n",
       "      <td>Private accommodation/ stay with family/friends</td>\n",
       "      <td>R 4001- R 5000</td>\n",
       "      <td>No</td>\n",
       "      <td>3-5</td>\n",
       "      <td>2</td>\n",
       "      <td>8+</td>\n",
       "      <td>3</td>\n",
       "      <td>0</td>\n",
       "      <td>No</td>\n",
       "      <td>Yes</td>\n",
       "      <td>Very close</td>\n",
       "    </tr>\n",
       "    <tr>\n",
       "      <th>3</th>\n",
       "      <td>Male</td>\n",
       "      <td>89.0</td>\n",
       "      <td>2nd Year</td>\n",
       "      <td>Engineering</td>\n",
       "      <td>84.0</td>\n",
       "      <td>Private accommodation/ stay with family/friends</td>\n",
       "      <td>R 6001 - R 7000</td>\n",
       "      <td>No</td>\n",
       "      <td>3-5</td>\n",
       "      <td>3</td>\n",
       "      <td>8+</td>\n",
       "      <td>2</td>\n",
       "      <td>0</td>\n",
       "      <td>Yes</td>\n",
       "      <td>Yes</td>\n",
       "      <td>Very close</td>\n",
       "    </tr>\n",
       "    <tr>\n",
       "      <th>4</th>\n",
       "      <td>Female</td>\n",
       "      <td>74.0</td>\n",
       "      <td>2nd Year</td>\n",
       "      <td>Arts &amp; Social Sciences</td>\n",
       "      <td>52.0</td>\n",
       "      <td>Private accommodation/ stay with family/friends</td>\n",
       "      <td>R 4001- R 5000</td>\n",
       "      <td>No</td>\n",
       "      <td>3-5</td>\n",
       "      <td>Only weekends</td>\n",
       "      <td>5-8</td>\n",
       "      <td>1</td>\n",
       "      <td>3</td>\n",
       "      <td>No</td>\n",
       "      <td>Yes</td>\n",
       "      <td>Fair</td>\n",
       "    </tr>\n",
       "  </tbody>\n",
       "</table>\n",
       "</div>"
      ],
      "text/plain": [
       "      sex  matric_gpa_% study_year                         faculty  \\\n",
       "0  Female          76.0   2nd Year          Arts & Social Sciences   \n",
       "1    Male          89.0   2nd Year  Economic & Management Sciences   \n",
       "2    Male          76.0   1st Year                    AgriSciences   \n",
       "3    Male          89.0   2nd Year                     Engineering   \n",
       "4  Female          74.0   2nd Year          Arts & Social Sciences   \n",
       "\n",
       "   gpa_%_2023                             accommodation_status  \\\n",
       "0        72.0  Private accommodation/ stay with family/friends   \n",
       "1        75.0  Private accommodation/ stay with family/friends   \n",
       "2        55.0  Private accommodation/ stay with family/friends   \n",
       "3        84.0  Private accommodation/ stay with family/friends   \n",
       "4        52.0  Private accommodation/ stay with family/friends   \n",
       "\n",
       "  monthly_allowance          scholarship study_hours_week socialising_week  \\\n",
       "0    R 4001- R 5000                   No               8+    Only weekends   \n",
       "1   R 7001 - R 8000  Yes (NSFAS, etc...)               8+    Only weekends   \n",
       "2    R 4001- R 5000                   No              3-5                2   \n",
       "3   R 6001 - R 7000                   No              3-5                3   \n",
       "4    R 4001- R 5000                   No              3-5    Only weekends   \n",
       "\n",
       "  drinks_night classes_missed modules_failed in_relationship  \\\n",
       "0           8+              3              0             Yes   \n",
       "1          3-5             4+              0              No   \n",
       "2           8+              3              0              No   \n",
       "3           8+              2              0             Yes   \n",
       "4          5-8              1              3              No   \n",
       "\n",
       "  parental_approval relationship_parents  \n",
       "0               Yes           Very close  \n",
       "1               Yes           Very close  \n",
       "2               Yes           Very close  \n",
       "3               Yes           Very close  \n",
       "4               Yes                 Fair  "
      ]
     },
     "execution_count": 27,
     "metadata": {},
     "output_type": "execute_result"
    }
   ],
   "source": [
    "student_data.head()"
   ]
  },
  {
   "cell_type": "code",
   "execution_count": null,
   "id": "fbc295bf-d0de-4ec0-b032-24a221eb086d",
   "metadata": {},
   "outputs": [],
   "source": []
  },
  {
   "cell_type": "code",
   "execution_count": 28,
   "id": "c06dc01a-ebbd-4cff-a077-7ffcd0a722c9",
   "metadata": {},
   "outputs": [
    {
     "data": {
      "text/plain": [
       "sex                      2\n",
       "matric_gpa_%             7\n",
       "study_year              73\n",
       "faculty                  7\n",
       "gpa_%_2023              86\n",
       "accommodation_status    23\n",
       "monthly_allowance       31\n",
       "scholarship              8\n",
       "study_hours_week         3\n",
       "socialising_week         2\n",
       "drinks_night             2\n",
       "classes_missed           3\n",
       "modules_failed           3\n",
       "in_relationship          3\n",
       "parental_approval        4\n",
       "relationship_parents     3\n",
       "dtype: int64"
      ]
     },
     "execution_count": 28,
     "metadata": {},
     "output_type": "execute_result"
    }
   ],
   "source": [
    "# Handling Null values\n",
    "student_data.isna().sum()"
   ]
  },
  {
   "cell_type": "code",
   "execution_count": 29,
   "id": "fc4d5bb1",
   "metadata": {},
   "outputs": [],
   "source": [
    "null_index = student_data[student_data[[\"study_year\", \"gpa_%_2023\"]].isna().sum(axis= 1) > 1].index\n",
    "\n",
    "student_data.drop(null_index, axis= 0, inplace= True)"
   ]
  },
  {
   "cell_type": "code",
   "execution_count": 30,
   "id": "97a55a26",
   "metadata": {},
   "outputs": [
    {
     "data": {
      "text/plain": [
       "sex                      0\n",
       "matric_gpa_%             3\n",
       "study_year               1\n",
       "faculty                  4\n",
       "gpa_%_2023              14\n",
       "accommodation_status     4\n",
       "monthly_allowance       15\n",
       "scholarship              0\n",
       "study_hours_week         0\n",
       "socialising_week         0\n",
       "drinks_night             0\n",
       "classes_missed           1\n",
       "modules_failed           0\n",
       "in_relationship          1\n",
       "parental_approval        2\n",
       "relationship_parents     1\n",
       "dtype: int64"
      ]
     },
     "execution_count": 30,
     "metadata": {},
     "output_type": "execute_result"
    }
   ],
   "source": [
    "student_data.isna().sum()"
   ]
  },
  {
   "cell_type": "code",
   "execution_count": 31,
   "id": "be46a45e-2acc-41c7-8fb8-d4a2912703d8",
   "metadata": {},
   "outputs": [],
   "source": [
    "# If more than 5 columns null in a row\n",
    "student_data = student_data[~(student_data.isna().sum(axis = 1) >= 5)] # axis = 1 check by row\n"
   ]
  },
  {
   "cell_type": "code",
   "execution_count": 32,
   "id": "1ce7dd30-8f41-4b81-9d4e-ac4aa43e6b14",
   "metadata": {},
   "outputs": [
    {
     "data": {
      "text/plain": [
       "sex                      0\n",
       "matric_gpa_%             3\n",
       "study_year               1\n",
       "faculty                  4\n",
       "gpa_%_2023              14\n",
       "accommodation_status     4\n",
       "monthly_allowance       15\n",
       "scholarship              0\n",
       "study_hours_week         0\n",
       "socialising_week         0\n",
       "drinks_night             0\n",
       "classes_missed           1\n",
       "modules_failed           0\n",
       "in_relationship          1\n",
       "parental_approval        2\n",
       "relationship_parents     1\n",
       "dtype: int64"
      ]
     },
     "execution_count": 32,
     "metadata": {},
     "output_type": "execute_result"
    }
   ],
   "source": [
    "student_data.isna().sum()"
   ]
  },
  {
   "cell_type": "code",
   "execution_count": 33,
   "id": "2c95b4f8-318b-4573-8e9c-4282b9bf0ed0",
   "metadata": {},
   "outputs": [],
   "source": [
    "# Filling categorical columns with mode\n",
    "\n",
    "columns_to_fill = [\n",
    "    'accommodation_status','monthly_allowance','scholarship','study_hours_week','faculty','study_year',\n",
    "    'classes_missed','modules_failed','in_relationship','parental_approval','relationship_parents'\n",
    "\n",
    "]\n",
    "student_data.fillna(\n",
    "    student_data[columns_to_fill].mode().loc[0], inplace= True\n",
    ")\n",
    "\n"
   ]
  },
  {
   "cell_type": "code",
   "execution_count": 34,
   "id": "3307f41f",
   "metadata": {},
   "outputs": [
    {
     "data": {
      "text/plain": [
       "sex                      0\n",
       "matric_gpa_%             3\n",
       "study_year               0\n",
       "faculty                  0\n",
       "gpa_%_2023              14\n",
       "accommodation_status     0\n",
       "monthly_allowance        0\n",
       "scholarship              0\n",
       "study_hours_week         0\n",
       "socialising_week         0\n",
       "drinks_night             0\n",
       "classes_missed           0\n",
       "modules_failed           0\n",
       "in_relationship          0\n",
       "parental_approval        0\n",
       "relationship_parents     0\n",
       "dtype: int64"
      ]
     },
     "execution_count": 34,
     "metadata": {},
     "output_type": "execute_result"
    }
   ],
   "source": [
    "student_data.isna().sum()"
   ]
  },
  {
   "cell_type": "code",
   "execution_count": 38,
   "id": "51e96fc6-3aca-4ed3-983a-08870d90288b",
   "metadata": {},
   "outputs": [
    {
     "name": "stderr",
     "output_type": "stream",
     "text": [
      "/var/folders/dh/hwqk2ngs1nl5cyy_vk8pdc1m0000gn/T/ipykernel_69564/603429809.py:5: FutureWarning: A value is trying to be set on a copy of a DataFrame or Series through chained assignment using an inplace method.\n",
      "The behavior will change in pandas 3.0. This inplace method will never work because the intermediate object on which we are setting values always behaves as a copy.\n",
      "\n",
      "For example, when doing 'df[col].method(value, inplace=True)', try using 'df.method({col: value}, inplace=True)' or df[col] = df[col].method(value) instead, to perform the operation inplace on the original object.\n",
      "\n",
      "\n",
      "  student_data[\"gpa_%_2023\"].fillna(mean_gpa, inplace= True)\n"
     ]
    }
   ],
   "source": [
    "mean_gpa = student_data[\"matric_gpa_%\"].mean()\n",
    "student_data[\"matric_gpa_%\"].fillna(mean_gpa, inplace= True)\n",
    "\n",
    "mean_gpa = student_data[\"gpa_%_2023\"].mean()\n",
    "student_data[\"gpa_%_2023\"].fillna(mean_gpa, inplace= True)"
   ]
  },
  {
   "cell_type": "code",
   "execution_count": 39,
   "id": "53d07543-cc9c-4c45-9da7-4a9050291805",
   "metadata": {},
   "outputs": [
    {
     "data": {
      "text/plain": [
       "sex                     0\n",
       "matric_gpa_%            0\n",
       "study_year              0\n",
       "faculty                 0\n",
       "gpa_%_2023              0\n",
       "accommodation_status    0\n",
       "monthly_allowance       0\n",
       "scholarship             0\n",
       "study_hours_week        0\n",
       "socialising_week        0\n",
       "drinks_night            0\n",
       "classes_missed          0\n",
       "modules_failed          0\n",
       "in_relationship         0\n",
       "parental_approval       0\n",
       "relationship_parents    0\n",
       "dtype: int64"
      ]
     },
     "execution_count": 39,
     "metadata": {},
     "output_type": "execute_result"
    }
   ],
   "source": [
    "student_data.isna().sum()"
   ]
  },
  {
   "cell_type": "code",
   "execution_count": 40,
   "id": "746a95ec-8a60-499f-89fa-478df9986b56",
   "metadata": {},
   "outputs": [
    {
     "data": {
      "text/html": [
       "<div>\n",
       "<style scoped>\n",
       "    .dataframe tbody tr th:only-of-type {\n",
       "        vertical-align: middle;\n",
       "    }\n",
       "\n",
       "    .dataframe tbody tr th {\n",
       "        vertical-align: top;\n",
       "    }\n",
       "\n",
       "    .dataframe thead th {\n",
       "        text-align: right;\n",
       "    }\n",
       "</style>\n",
       "<table border=\"1\" class=\"dataframe\">\n",
       "  <thead>\n",
       "    <tr style=\"text-align: right;\">\n",
       "      <th></th>\n",
       "      <th>matric_gpa_%</th>\n",
       "      <th>gpa_%_2023</th>\n",
       "    </tr>\n",
       "  </thead>\n",
       "  <tbody>\n",
       "    <tr>\n",
       "      <th>count</th>\n",
       "      <td>334.000000</td>\n",
       "      <td>334.000000</td>\n",
       "    </tr>\n",
       "    <tr>\n",
       "      <th>mean</th>\n",
       "      <td>78.047402</td>\n",
       "      <td>66.268469</td>\n",
       "    </tr>\n",
       "    <tr>\n",
       "      <th>std</th>\n",
       "      <td>6.623199</td>\n",
       "      <td>8.953543</td>\n",
       "    </tr>\n",
       "    <tr>\n",
       "      <th>min</th>\n",
       "      <td>55.000000</td>\n",
       "      <td>30.000000</td>\n",
       "    </tr>\n",
       "    <tr>\n",
       "      <th>25%</th>\n",
       "      <td>74.000000</td>\n",
       "      <td>60.000000</td>\n",
       "    </tr>\n",
       "    <tr>\n",
       "      <th>50%</th>\n",
       "      <td>78.000000</td>\n",
       "      <td>65.000000</td>\n",
       "    </tr>\n",
       "    <tr>\n",
       "      <th>75%</th>\n",
       "      <td>83.000000</td>\n",
       "      <td>73.000000</td>\n",
       "    </tr>\n",
       "    <tr>\n",
       "      <th>max</th>\n",
       "      <td>99.000000</td>\n",
       "      <td>95.220000</td>\n",
       "    </tr>\n",
       "  </tbody>\n",
       "</table>\n",
       "</div>"
      ],
      "text/plain": [
       "       matric_gpa_%  gpa_%_2023\n",
       "count    334.000000  334.000000\n",
       "mean      78.047402   66.268469\n",
       "std        6.623199    8.953543\n",
       "min       55.000000   30.000000\n",
       "25%       74.000000   60.000000\n",
       "50%       78.000000   65.000000\n",
       "75%       83.000000   73.000000\n",
       "max       99.000000   95.220000"
      ]
     },
     "execution_count": 40,
     "metadata": {},
     "output_type": "execute_result"
    }
   ],
   "source": [
    "# Outlier Handling\n",
    "student_data[['matric_gpa_%', 'gpa_%_2023']].describe()"
   ]
  },
  {
   "cell_type": "code",
   "execution_count": 41,
   "id": "ff7a14b2-d99d-4ab6-b506-3ca9ca39431a",
   "metadata": {},
   "outputs": [
    {
     "data": {
      "text/plain": [
       "<Axes: >"
      ]
     },
     "execution_count": 41,
     "metadata": {},
     "output_type": "execute_result"
    },
    {
     "data": {
      "image/png": "[encoded data removed]",
      "text/plain": [
       "<Figure size 640x480 with 1 Axes>"
      ]
     },
     "metadata": {},
     "output_type": "display_data"
    }
   ],
   "source": [
    "student_data[['matric_gpa_%', 'gpa_%_2023']].plot.box()"
   ]
  },
  {
   "cell_type": "code",
   "execution_count": 42,
   "id": "f926b852-19a1-41c0-8f85-93741a2903e4",
   "metadata": {},
   "outputs": [],
   "source": [
    "def handle_outlier(\n",
    "        dataframe: pd.DataFrame, columns: list[str]\n",
    "):\n",
    "    \n",
    "    for each_col in columns:\n",
    "        print(f\"Working for {each_col} column\")\n",
    "        series = dataframe[each_col]\n",
    "\n",
    "        q1 = series.quantile(0.25)\n",
    "        q3 = series.quantile(0.75)\n",
    "        iqr = q3 - q1\n",
    "        max_v = q3 + 1.5 * iqr\n",
    "        min_v = q1 - 1.5 * iqr\n",
    "\n",
    "        to_drop = series[(series > max_v) | (series < min_v)].index\n",
    "        print(f\"Dropping {to_drop} indexes\")\n",
    "\n",
    "        dataframe = dataframe.drop(to_drop, axis= 0, inplace= False)\n",
    "    \n",
    "    return dataframe"
   ]
  },
  {
   "cell_type": "code",
   "execution_count": 43,
   "id": "4a7cc453-1164-41c5-b0d7-f2df7cc754f1",
   "metadata": {},
   "outputs": [
    {
     "name": "stdout",
     "output_type": "stream",
     "text": [
      "Working for matric_gpa_% column\n",
      "Dropping Index([38, 54, 73, 203, 268, 335, 358], dtype='int64') indexes\n",
      "Working for gpa_%_2023 column\n",
      "Dropping Index([303], dtype='int64') indexes\n"
     ]
    }
   ],
   "source": [
    "student_data_no_outlier = handle_outlier(student_data, ['matric_gpa_%','gpa_%_2023'])"
   ]
  },
  {
   "cell_type": "code",
   "execution_count": null,
   "id": "ae73738e-f3ca-4d61-9ce2-01fb12a9ec90",
   "metadata": {},
   "outputs": [],
   "source": [
    "# def handle_outlier(series: pd.Series) -> pd.Series:\n",
    "#     \"\"\"\n",
    "#     Handle outliers in a Pandas Series using the IQR method.\n",
    "#     \"\"\"\n",
    "#     q1 = series.quantile(0.25)\n",
    "#     q3 = series.quantile(0.75)\n",
    "#     iqr = q3 - q1\n",
    "#     max_v = q3 + 1.5 * iqr\n",
    "#     min_v = q1 - 1.5 * iqr\n",
    "    \n",
    "#     return series[(series >= min_v) & (series <= max_v)]\n",
    "\n",
    "# columns = ['matric_gpa_%','gpa_%_2023']\n",
    "# student_data[columns] = student_data[columns].apply(handle_outlier)"
   ]
  },
  {
   "cell_type": "code",
   "execution_count": 44,
   "id": "3add7b8f-2054-440a-ae9c-1f0fce6eedb9",
   "metadata": {},
   "outputs": [],
   "source": [
    "student_data_no_outlier.to_csv(\"student_survey_clean.csv\", index= False)"
   ]
  },
  {
   "cell_type": "code",
   "execution_count": null,
   "id": "d62739b9-d98a-4d30-8729-dc0763d16d3f",
   "metadata": {},
   "outputs": [],
   "source": []
  },
  {
   "cell_type": "code",
   "execution_count": null,
   "id": "38c6bd7c-e9f7-4531-ad6b-9fd2d7dd3832",
   "metadata": {},
   "outputs": [],
   "source": []
  },
  {
   "cell_type": "code",
   "execution_count": null,
   "id": "057ab57e-605d-474d-82c5-f5bfe294fe69",
   "metadata": {},
   "outputs": [],
   "source": [
    " "
   ]
  },
  {
   "cell_type": "code",
   "execution_count": null,
   "id": "b50c9034-ae2f-4bcb-ba79-8b003d632312",
   "metadata": {},
   "outputs": [],
   "source": []
  },
  {
   "cell_type": "code",
   "execution_count": null,
   "id": "714ee795-efe1-40c7-8c02-aff878c5e3ff",
   "metadata": {},
   "outputs": [],
   "source": []
  },
  {
   "cell_type": "code",
   "execution_count": null,
   "id": "f20d6431-1829-492a-82b6-8c1b7d2b9595",
   "metadata": {},
   "outputs": [],
   "source": []
  }
 ],
 "metadata": {
  "kernelspec": {
   "display_name": "newenv",
   "language": "python",
   "name": "python3"
  },
  "language_info": {
   "codemirror_mode": {
    "name": "ipython",
    "version": 3
   },
   "file_extension": ".py",
   "mimetype": "text/x-python",
   "name": "python",
   "nbconvert_exporter": "python",
   "pygments_lexer": "ipython3",
   "version": "3.11.10"
  }
 },
 "nbformat": 4,
 "nbformat_minor": 5
}
