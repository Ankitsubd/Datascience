{
 "cells": [
  {
   "cell_type": "markdown",
   "id": "d98f7436-b9a6-4547-a9e1-697c33d8782b",
   "metadata": {},
   "source": [
    "### **Coding Assignment: Data Exploration and Visualization Using Pandas**\n",
    "\n",
    "### **Dataset 01:**\n",
    "Use the [Iris Species dataset](https://www.kaggle.com/uciml/iris) from Kaggle, which contains measurements of different species of iris flowers."
   ]
  },
  {
   "cell_type": "markdown",
   "id": "4ae7411e-251d-483a-83ed-97da46878c67",
   "metadata": {},
   "source": [
    "#### **Instructions:**\n",
    "\n",
    "1. **Importing the Dataset:**\n",
    "   - Load the dataset into a pandas DataFrame.\n",
    "   - Display the first 5 rows of the dataset."
   ]
  },
  {
   "cell_type": "code",
   "execution_count": 1,
   "id": "a6468392-a099-4385-8f13-0d5d3ed80828",
   "metadata": {},
   "outputs": [
    {
     "data": {
      "text/html": [
       "<div>\n",
       "<style scoped>\n",
       "    .dataframe tbody tr th:only-of-type {\n",
       "        vertical-align: middle;\n",
       "    }\n",
       "\n",
       "    .dataframe tbody tr th {\n",
       "        vertical-align: top;\n",
       "    }\n",
       "\n",
       "    .dataframe thead th {\n",
       "        text-align: right;\n",
       "    }\n",
       "</style>\n",
       "<table border=\"1\" class=\"dataframe\">\n",
       "  <thead>\n",
       "    <tr style=\"text-align: right;\">\n",
       "      <th></th>\n",
       "      <th>SepalLengthCm</th>\n",
       "      <th>SepalWidthCm</th>\n",
       "      <th>PetalLengthCm</th>\n",
       "      <th>PetalWidthCm</th>\n",
       "      <th>Species</th>\n",
       "    </tr>\n",
       "    <tr>\n",
       "      <th>Id</th>\n",
       "      <th></th>\n",
       "      <th></th>\n",
       "      <th></th>\n",
       "      <th></th>\n",
       "      <th></th>\n",
       "    </tr>\n",
       "  </thead>\n",
       "  <tbody>\n",
       "    <tr>\n",
       "      <th>1</th>\n",
       "      <td>5.1</td>\n",
       "      <td>3.5</td>\n",
       "      <td>1.4</td>\n",
       "      <td>0.2</td>\n",
       "      <td>Iris-setosa</td>\n",
       "    </tr>\n",
       "    <tr>\n",
       "      <th>2</th>\n",
       "      <td>4.9</td>\n",
       "      <td>3.0</td>\n",
       "      <td>1.4</td>\n",
       "      <td>0.2</td>\n",
       "      <td>Iris-setosa</td>\n",
       "    </tr>\n",
       "    <tr>\n",
       "      <th>3</th>\n",
       "      <td>4.7</td>\n",
       "      <td>3.2</td>\n",
       "      <td>1.3</td>\n",
       "      <td>0.2</td>\n",
       "      <td>Iris-setosa</td>\n",
       "    </tr>\n",
       "    <tr>\n",
       "      <th>4</th>\n",
       "      <td>4.6</td>\n",
       "      <td>3.1</td>\n",
       "      <td>1.5</td>\n",
       "      <td>0.2</td>\n",
       "      <td>Iris-setosa</td>\n",
       "    </tr>\n",
       "    <tr>\n",
       "      <th>5</th>\n",
       "      <td>5.0</td>\n",
       "      <td>3.6</td>\n",
       "      <td>1.4</td>\n",
       "      <td>0.2</td>\n",
       "      <td>Iris-setosa</td>\n",
       "    </tr>\n",
       "  </tbody>\n",
       "</table>\n",
       "</div>"
      ],
      "text/plain": [
       "    SepalLengthCm  SepalWidthCm  PetalLengthCm  PetalWidthCm      Species\n",
       "Id                                                                       \n",
       "1             5.1           3.5            1.4           0.2  Iris-setosa\n",
       "2             4.9           3.0            1.4           0.2  Iris-setosa\n",
       "3             4.7           3.2            1.3           0.2  Iris-setosa\n",
       "4             4.6           3.1            1.5           0.2  Iris-setosa\n",
       "5             5.0           3.6            1.4           0.2  Iris-setosa"
      ]
     },
     "execution_count": 1,
     "metadata": {},
     "output_type": "execute_result"
    }
   ],
   "source": [
    "import pandas as pd\n",
    "\n",
    "iris_data = pd.read_csv(\"Iris.csv\", index_col=0)\n",
    "\n",
    "iris_data.head()"
   ]
  },
  {
   "cell_type": "markdown",
   "id": "ddbc3e0a-0026-4b5d-b08f-8886cb86f0f5",
   "metadata": {},
   "source": [
    "2. **Basic Data Exploration:**\n",
    "   - **Data Summary:**\n",
    "     - Display basic information about the dataset, including the number of rows and columns, data types of each column, and memory usage.\n",
    "     - Generate descriptive statistics for the numerical columns (e.g., mean, median, standard deviation).\n",
    "   - **Check for Missing Values:**\n",
    "     - Identify any missing values in the dataset and explain how you would handle them if there were any.\n",
    "   - **Value Counts:**\n",
    "     - Display the count of each unique species in the `species` column."
   ]
  },
  {
   "cell_type": "code",
   "execution_count": 2,
   "id": "cc53c984-ac4b-4402-a3d2-267874af64e2",
   "metadata": {},
   "outputs": [
    {
     "name": "stdout",
     "output_type": "stream",
     "text": [
      "Number of row: 150\n",
      "Number of column: 5\n",
      "\n",
      "Data Types of each columns:\n",
      " SepalLengthCm    float64\n",
      "SepalWidthCm     float64\n",
      "PetalLengthCm    float64\n",
      "PetalWidthCm     float64\n",
      "Species           object\n",
      "dtype: object\n",
      "\n",
      "Memory usage: \n",
      "Index            1200\n",
      "SepalLengthCm    1200\n",
      "SepalWidthCm     1200\n",
      "PetalLengthCm    1200\n",
      "PetalWidthCm     1200\n",
      "Species          1200\n",
      "dtype: int64\n",
      "Memory usage by each row and columns: 7200\n",
      "\n",
      "Descriptive Statistics:\n",
      "        SepalLengthCm  SepalWidthCm  PetalLengthCm  PetalWidthCm\n",
      "count     150.000000    150.000000     150.000000    150.000000\n",
      "mean        5.843333      3.054000       3.758667      1.198667\n",
      "std         0.828066      0.433594       1.764420      0.763161\n",
      "min         4.300000      2.000000       1.000000      0.100000\n",
      "25%         5.100000      2.800000       1.600000      0.300000\n",
      "50%         5.800000      3.000000       4.350000      1.300000\n",
      "75%         6.400000      3.300000       5.100000      1.800000\n",
      "max         7.900000      4.400000       6.900000      2.500000\n"
     ]
    }
   ],
   "source": [
    "# Number of row and columns\n",
    "number_row, number_column = iris_data.shape\n",
    "print(f\"Number of row: {number_row}\")\n",
    "print(f\"Number of column: {number_column}\\n\")\n",
    "\n",
    "# Data Types of each column\n",
    "print(f\"Data Types of each columns:\\n {iris_data.dtypes}\\n\")\n",
    "\n",
    "#Memory Usage\n",
    "print(f\"Memory usage: \\n{iris_data.memory_usage()}\")\n",
    "print(f\"Memory usage by each row and columns: {iris_data.memory_usage().sum()}\\n\")\n",
    "\n",
    "#Descriptive Statistics\n",
    "print(f\"Descriptive Statistics:\\n {iris_data.describe()}\")\n"
   ]
  },
  {
   "cell_type": "markdown",
   "id": "70c1efec-4bdf-47b8-b742-233345111969",
   "metadata": {},
   "source": [
    "### Checking for missing value"
   ]
  },
  {
   "cell_type": "code",
   "execution_count": 3,
   "id": "e25d7ccc-2d65-40e5-994f-21108708625a",
   "metadata": {},
   "outputs": [
    {
     "name": "stdout",
     "output_type": "stream",
     "text": [
      "Missing Value: \n",
      "SepalLengthCm    0\n",
      "SepalWidthCm     0\n",
      "PetalLengthCm    0\n",
      "PetalWidthCm     0\n",
      "Species          0\n",
      "dtype: int64\n"
     ]
    }
   ],
   "source": [
    "# Missing value\n",
    "print(f\"Missing Value: \\n{iris_data.isnull().sum()}\") # we also can use .isna() "
   ]
  },
  {
   "cell_type": "markdown",
   "id": "5dfa7307-1768-4412-9db1-18093476f487",
   "metadata": {},
   "source": [
    "    . If there is null value we can remove missing value by using dropna() which can drop columns and row.\n",
    "    . We can use fillna() to fill missing value. \n"
   ]
  },
  {
   "cell_type": "markdown",
   "id": "a2483bb6-fff5-4970-8dbd-05b4baa9aedc",
   "metadata": {},
   "source": [
    "### Value Counts"
   ]
  },
  {
   "cell_type": "code",
   "execution_count": 4,
   "id": "fbc41354-e14e-44b0-8401-aca6451d72a0",
   "metadata": {},
   "outputs": [
    {
     "name": "stdout",
     "output_type": "stream",
     "text": [
      "Value counts of species: \n",
      "Species\n",
      "Iris-setosa        50\n",
      "Iris-versicolor    50\n",
      "Iris-virginica     50\n",
      "Name: count, dtype: int64\n"
     ]
    }
   ],
   "source": [
    "# Value counts ['Species']\n",
    "print(f\"Value counts of species: \\n{iris_data['Species'].value_counts()}\")"
   ]
  },
  {
   "cell_type": "markdown",
   "id": "bb2b341a-ea58-4f85-970f-24def18cef44",
   "metadata": {},
   "source": [
    "3. **Filtering and Sorting:**\n",
    "   - Filter the dataset to show only the rows where the `sepal_length` is greater than 5.0.\n",
    "   - Sort the filtered dataset by `petal_length` in descending order.\n"
   ]
  },
  {
   "cell_type": "code",
   "execution_count": 5,
   "id": "3cac6ca7-e5d4-465c-8d6d-f2ad93cad6d2",
   "metadata": {},
   "outputs": [
    {
     "name": "stdout",
     "output_type": "stream",
     "text": [
      "    SepalLengthCm  SepalWidthCm  PetalLengthCm  PetalWidthCm      Species\n",
      "Id                                                                       \n",
      "1             5.1           3.5            1.4           0.2  Iris-setosa\n",
      "6             5.4           3.9            1.7           0.4  Iris-setosa\n",
      "11            5.4           3.7            1.5           0.2  Iris-setosa\n",
      "15            5.8           4.0            1.2           0.2  Iris-setosa\n",
      "16            5.7           4.4            1.5           0.4  Iris-setosa\n",
      "17            5.4           3.9            1.3           0.4  Iris-setosa\n",
      "18            5.1           3.5            1.4           0.3  Iris-setosa\n",
      "19            5.7           3.8            1.7           0.3  Iris-setosa\n",
      "20            5.1           3.8            1.5           0.3  Iris-setosa\n",
      "21            5.4           3.4            1.7           0.2  Iris-setosa\n"
     ]
    }
   ],
   "source": [
    "# Filtering And Sorting\n",
    "filter_sepal_length = iris_data[iris_data['SepalLengthCm'] > 5]\n",
    "print(filter_sepal_length.head(10))"
   ]
  },
  {
   "cell_type": "code",
   "execution_count": 6,
   "id": "196cb77c-3dbc-4343-a473-c24077f485c1",
   "metadata": {},
   "outputs": [
    {
     "name": "stdout",
     "output_type": "stream",
     "text": [
      "     SepalLengthCm  SepalWidthCm  PetalLengthCm  PetalWidthCm         Species\n",
      "Id                                                                           \n",
      "119            7.7           2.6            6.9           2.3  Iris-virginica\n",
      "118            7.7           3.8            6.7           2.2  Iris-virginica\n",
      "123            7.7           2.8            6.7           2.0  Iris-virginica\n",
      "106            7.6           3.0            6.6           2.1  Iris-virginica\n",
      "132            7.9           3.8            6.4           2.0  Iris-virginica\n",
      "108            7.3           2.9            6.3           1.8  Iris-virginica\n",
      "131            7.4           2.8            6.1           1.9  Iris-virginica\n",
      "110            7.2           3.6            6.1           2.5  Iris-virginica\n",
      "136            7.7           3.0            6.1           2.3  Iris-virginica\n",
      "126            7.2           3.2            6.0           1.8  Iris-virginica\n"
     ]
    }
   ],
   "source": [
    "# Sorting the filter data by Petal_length\n",
    "sorted_data = filter_sepal_length.sort_values(by= \"PetalLengthCm\", ascending= False)\n",
    "print(sorted_data.head(10))"
   ]
  },
  {
   "cell_type": "markdown",
   "id": "af65d06f-e6b9-4a05-ba99-5633956c8e20",
   "metadata": {},
   "source": [
    "5. **Creating New Columns:**\n",
    "   - Create a new column called `sepal_petal_ratio` which is the ratio of `sepal_length` to `petal_length`.\n"
   ]
  },
  {
   "cell_type": "code",
   "execution_count": 7,
   "id": "ecf21421-f459-48d4-b902-55341f26820e",
   "metadata": {},
   "outputs": [
    {
     "name": "stdout",
     "output_type": "stream",
     "text": [
      "    SepalLengthCm  SepalWidthCm  PetalLengthCm  PetalWidthCm      Species  \\\n",
      "Id                                                                          \n",
      "1             5.1           3.5            1.4           0.2  Iris-setosa   \n",
      "2             4.9           3.0            1.4           0.2  Iris-setosa   \n",
      "3             4.7           3.2            1.3           0.2  Iris-setosa   \n",
      "4             4.6           3.1            1.5           0.2  Iris-setosa   \n",
      "5             5.0           3.6            1.4           0.2  Iris-setosa   \n",
      "6             5.4           3.9            1.7           0.4  Iris-setosa   \n",
      "7             4.6           3.4            1.4           0.3  Iris-setosa   \n",
      "8             5.0           3.4            1.5           0.2  Iris-setosa   \n",
      "9             4.4           2.9            1.4           0.2  Iris-setosa   \n",
      "10            4.9           3.1            1.5           0.1  Iris-setosa   \n",
      "\n",
      "    Sepal_Petal_ratio  \n",
      "Id                     \n",
      "1            3.642857  \n",
      "2            3.500000  \n",
      "3            3.615385  \n",
      "4            3.066667  \n",
      "5            3.571429  \n",
      "6            3.176471  \n",
      "7            3.285714  \n",
      "8            3.333333  \n",
      "9            3.142857  \n",
      "10           3.266667  \n"
     ]
    }
   ],
   "source": [
    "# Creating New Columns:\n",
    "\n",
    "Sepal_Petal_ratio = iris_data['SepalLengthCm'] / iris_data['PetalLengthCm']\n",
    "iris_data['Sepal_Petal_ratio'] = Sepal_Petal_ratio\n",
    "print(iris_data.head(10))"
   ]
  },
  {
   "cell_type": "markdown",
   "id": "973ac190-9069-4e61-979c-568e350f7020",
   "metadata": {},
   "source": [
    "6. **Data Visualization:**\n",
    "   - **Histogram:**\n",
    "     - Create a histogram to visualize the distribution of `sepal_length` values.\n",
    "   - **Scatter Plot:**\n",
    "     - Create a scatter plot with `sepal_length` on the x-axis and `petal_length` on the y-axis. Use different colors to represent different species.\n",
    "   - **Box Plot:**\n",
    "     - Create a box plot for the `sepal_width` values, grouped by `species`."
   ]
  },
  {
   "cell_type": "code",
   "execution_count": 8,
   "id": "f8ace687-3493-4ac4-af5c-eb8606fbc600",
   "metadata": {},
   "outputs": [
    {
     "name": "stdout",
     "output_type": "stream",
     "text": [
      "Axes(0.125,0.11;0.775x0.77)\n"
     ]
    },
    {
     "data": {
      "image/png": "[encoded data removed]",
      "text/plain": [
       "<Figure size 640x480 with 1 Axes>"
      ]
     },
     "metadata": {},
     "output_type": "display_data"
    }
   ],
   "source": [
    "# Histogram\n",
    "print(iris_data.SepalLengthCm.plot.hist(bins= 20, grid = True, edgecolor=\"black\"))"
   ]
  },
  {
   "cell_type": "code",
   "execution_count": 9,
   "id": "2c0a2b6e-0b0d-476f-b1e4-591093ccf291",
   "metadata": {},
   "outputs": [
    {
     "name": "stdout",
     "output_type": "stream",
     "text": [
      "Axes(0.125,0.11;0.775x0.77)\n"
     ]
    },
    {
     "data": {
      "image/png": "[encoded data removed]",
      "text/plain": [
       "<Figure size 640x480 with 1 Axes>"
      ]
     },
     "metadata": {},
     "output_type": "display_data"
    }
   ],
   "source": [
    "# Scatter Plot\n",
    "print(iris_data.plot.scatter(\"SepalLengthCm\", \"PetalLengthCm\"))"
   ]
  },
  {
   "cell_type": "code",
   "execution_count": 10,
   "id": "8d60b344-331b-49f5-8d41-4b593e45dbac",
   "metadata": {},
   "outputs": [
    {
     "name": "stdout",
     "output_type": "stream",
     "text": [
      "SepalWidthCm    Axes(0.125,0.11;0.775x0.77)\n",
      "dtype: object\n"
     ]
    },
    {
     "data": {
      "image/png": "[encoded data removed]",
      "text/plain": [
       "<Figure size 640x480 with 1 Axes>"
      ]
     },
     "metadata": {},
     "output_type": "display_data"
    }
   ],
   "source": [
    "# Box plot\n",
    "print(iris_data.plot.box(column=\"SepalWidthCm\",  by= \"Species\"))"
   ]
  },
  {
   "cell_type": "markdown",
   "id": "8dfcb981-e8f6-406b-9d78-66deb125b92a",
   "metadata": {},
   "source": [
    "\n",
    "7. **Correlation Matrix**\n",
    "   - Calculate the correlation matrix for the numerical features and create a heatmap to visualize the correlations using `seaborn`.\n",
    "\n"
   ]
  },
  {
   "cell_type": "code",
   "execution_count": 2,
   "id": "3b8aef17-64c2-4155-a567-6fe7214fb2b1",
   "metadata": {},
   "outputs": [
    {
     "data": {
      "text/plain": [
       "<Axes: >"
      ]
     },
     "execution_count": 2,
     "metadata": {},
     "output_type": "execute_result"
    },
    {
     "data": {
      "image/png": "[encoded data removed]",
      "text/plain": [
       "<Figure size 640x480 with 2 Axes>"
      ]
     },
     "metadata": {},
     "output_type": "display_data"
    }
   ],
   "source": [
    "import seaborn as sns\n",
    "correlation_matix = iris_data.corr(numeric_only= True)\n",
    "correlation_matix\n",
    "\n",
    "sns.heatmap(correlation_matix, annot= True)"
   ]
  },
  {
   "cell_type": "markdown",
   "id": "5d692eb9",
   "metadata": {},
   "source": [
    "---"
   ]
  },
  {
   "cell_type": "markdown",
   "id": "c59a11aa",
   "metadata": {
    "jp-MarkdownHeadingCollapsed": true
   },
   "source": [
    "### **Dataset 02 :** [House Prices Dataset](https://www.kaggle.com/competitions/house-prices-advanced-regression-techniques/data)\n",
    "\n",
    "The dataset includes 79 explanatory variables that describe aspects of residential homes.\n",
    "\n",
    "#### **Instructions**:\n",
    "- Use Python and Jupyter Notebook to solve the questions.\n",
    "- Ensure your code is efficient, well-commented, and follows best practices for handling missing data and outliers.\n",
    "- Use appropriate visualizations where needed and include explanations for your analysis."
   ]
  },
  {
   "cell_type": "markdown",
   "id": "c6bfd262",
   "metadata": {},
   "source": [
    "### **Problem 1: Data Exploration with Pandas**  \n",
    "1. Load the House Prices dataset using Pandas and perform initial exploration:\n",
    "   - Display the first and last 5 rows.\n",
    "   - Display the **data types** of each column.\n",
    "   - Check for **missing values** and calculate the percentage of missing data for each column.\n",
    "   - Summarize the **statistical properties** of the numerical columns using `describe()`.\n",
    "\n",
    "2. Based on the dataset, identify the following:\n",
    "   - Columns that are **categorical** and **numerical**.\n",
    "   - Any potential **outliers** in the numerical columns (use visualizations like boxplots)."
   ]
  },
  {
   "cell_type": "code",
   "execution_count": 32,
   "id": "4fee5115",
   "metadata": {},
   "outputs": [
    {
     "name": "stdout",
     "output_type": "stream",
     "text": [
      "First five row: \n",
      "    MSSubClass MSZoning  LotFrontage  LotArea Street Alley LotShape  \\\n",
      "Id                                                                    \n",
      "1           60       RL         65.0     8450   Pave   NaN      Reg   \n",
      "2           20       RL         80.0     9600   Pave   NaN      Reg   \n",
      "3           60       RL         68.0    11250   Pave   NaN      IR1   \n",
      "4           70       RL         60.0     9550   Pave   NaN      IR1   \n",
      "5           60       RL         84.0    14260   Pave   NaN      IR1   \n",
      "\n",
      "   LandContour Utilities LotConfig  ... PoolArea PoolQC Fence MiscFeature  \\\n",
      "Id                                  ...                                     \n",
      "1          Lvl    AllPub    Inside  ...        0    NaN   NaN         NaN   \n",
      "2          Lvl    AllPub       FR2  ...        0    NaN   NaN         NaN   \n",
      "3          Lvl    AllPub    Inside  ...        0    NaN   NaN         NaN   \n",
      "4          Lvl    AllPub    Corner  ...        0    NaN   NaN         NaN   \n",
      "5          Lvl    AllPub       FR2  ...        0    NaN   NaN         NaN   \n",
      "\n",
      "   MiscVal MoSold  YrSold  SaleType  SaleCondition  SalePrice  \n",
      "Id                                                             \n",
      "1        0      2    2008        WD         Normal     208500  \n",
      "2        0      5    2007        WD         Normal     181500  \n",
      "3        0      9    2008        WD         Normal     223500  \n",
      "4        0      2    2006        WD        Abnorml     140000  \n",
      "5        0     12    2008        WD         Normal     250000  \n",
      "\n",
      "[5 rows x 80 columns]\n",
      "\n",
      "\n",
      "Last five row: \n",
      "      MSSubClass MSZoning  LotFrontage  LotArea Street Alley LotShape  \\\n",
      "Id                                                                      \n",
      "1456          60       RL         62.0     7917   Pave   NaN      Reg   \n",
      "1457          20       RL         85.0    13175   Pave   NaN      Reg   \n",
      "1458          70       RL         66.0     9042   Pave   NaN      Reg   \n",
      "1459          20       RL         68.0     9717   Pave   NaN      Reg   \n",
      "1460          20       RL         75.0     9937   Pave   NaN      Reg   \n",
      "\n",
      "     LandContour Utilities LotConfig  ... PoolArea PoolQC  Fence MiscFeature  \\\n",
      "Id                                    ...                                      \n",
      "1456         Lvl    AllPub    Inside  ...        0    NaN    NaN         NaN   \n",
      "1457         Lvl    AllPub    Inside  ...        0    NaN  MnPrv         NaN   \n",
      "1458         Lvl    AllPub    Inside  ...        0    NaN  GdPrv        Shed   \n",
      "1459         Lvl    AllPub    Inside  ...        0    NaN    NaN         NaN   \n",
      "1460         Lvl    AllPub    Inside  ...        0    NaN    NaN         NaN   \n",
      "\n",
      "     MiscVal MoSold  YrSold  SaleType  SaleCondition  SalePrice  \n",
      "Id                                                               \n",
      "1456       0      8    2007        WD         Normal     175000  \n",
      "1457       0      2    2010        WD         Normal     210000  \n",
      "1458    2500      5    2010        WD         Normal     266500  \n",
      "1459       0      4    2010        WD         Normal     142125  \n",
      "1460       0      6    2008        WD         Normal     147500  \n",
      "\n",
      "[5 rows x 80 columns]\n",
      "Data Types of each column: \n",
      "<class 'pandas.core.frame.DataFrame'>\n",
      "Index: 1460 entries, 1 to 1460\n",
      "Data columns (total 80 columns):\n",
      " #   Column         Non-Null Count  Dtype  \n",
      "---  ------         --------------  -----  \n",
      " 0   MSSubClass     1460 non-null   int64  \n",
      " 1   MSZoning       1460 non-null   object \n",
      " 2   LotFrontage    1201 non-null   float64\n",
      " 3   LotArea        1460 non-null   int64  \n",
      " 4   Street         1460 non-null   object \n",
      " 5   Alley          91 non-null     object \n",
      " 6   LotShape       1460 non-null   object \n",
      " 7   LandContour    1460 non-null   object \n",
      " 8   Utilities      1460 non-null   object \n",
      " 9   LotConfig      1460 non-null   object \n",
      " 10  LandSlope      1460 non-null   object \n",
      " 11  Neighborhood   1460 non-null   object \n",
      " 12  Condition1     1460 non-null   object \n",
      " 13  Condition2     1460 non-null   object \n",
      " 14  BldgType       1460 non-null   object \n",
      " 15  HouseStyle     1460 non-null   object \n",
      " 16  OverallQual    1460 non-null   int64  \n",
      " 17  OverallCond    1460 non-null   int64  \n",
      " 18  YearBuilt      1460 non-null   int64  \n",
      " 19  YearRemodAdd   1460 non-null   int64  \n",
      " 20  RoofStyle      1460 non-null   object \n",
      " 21  RoofMatl       1460 non-null   object \n",
      " 22  Exterior1st    1460 non-null   object \n",
      " 23  Exterior2nd    1460 non-null   object \n",
      " 24  MasVnrType     588 non-null    object \n",
      " 25  MasVnrArea     1452 non-null   float64\n",
      " 26  ExterQual      1460 non-null   object \n",
      " 27  ExterCond      1460 non-null   object \n",
      " 28  Foundation     1460 non-null   object \n",
      " 29  BsmtQual       1423 non-null   object \n",
      " 30  BsmtCond       1423 non-null   object \n",
      " 31  BsmtExposure   1422 non-null   object \n",
      " 32  BsmtFinType1   1423 non-null   object \n",
      " 33  BsmtFinSF1     1460 non-null   int64  \n",
      " 34  BsmtFinType2   1422 non-null   object \n",
      " 35  BsmtFinSF2     1460 non-null   int64  \n",
      " 36  BsmtUnfSF      1460 non-null   int64  \n",
      " 37  TotalBsmtSF    1460 non-null   int64  \n",
      " 38  Heating        1460 non-null   object \n",
      " 39  HeatingQC      1460 non-null   object \n",
      " 40  CentralAir     1460 non-null   object \n",
      " 41  Electrical     1459 non-null   object \n",
      " 42  1stFlrSF       1460 non-null   int64  \n",
      " 43  2ndFlrSF       1460 non-null   int64  \n",
      " 44  LowQualFinSF   1460 non-null   int64  \n",
      " 45  GrLivArea      1460 non-null   int64  \n",
      " 46  BsmtFullBath   1460 non-null   int64  \n",
      " 47  BsmtHalfBath   1460 non-null   int64  \n",
      " 48  FullBath       1460 non-null   int64  \n",
      " 49  HalfBath       1460 non-null   int64  \n",
      " 50  BedroomAbvGr   1460 non-null   int64  \n",
      " 51  KitchenAbvGr   1460 non-null   int64  \n",
      " 52  KitchenQual    1460 non-null   object \n",
      " 53  TotRmsAbvGrd   1460 non-null   int64  \n",
      " 54  Functional     1460 non-null   object \n",
      " 55  Fireplaces     1460 non-null   int64  \n",
      " 56  FireplaceQu    770 non-null    object \n",
      " 57  GarageType     1379 non-null   object \n",
      " 58  GarageYrBlt    1379 non-null   float64\n",
      " 59  GarageFinish   1379 non-null   object \n",
      " 60  GarageCars     1460 non-null   int64  \n",
      " 61  GarageArea     1460 non-null   int64  \n",
      " 62  GarageQual     1379 non-null   object \n",
      " 63  GarageCond     1379 non-null   object \n",
      " 64  PavedDrive     1460 non-null   object \n",
      " 65  WoodDeckSF     1460 non-null   int64  \n",
      " 66  OpenPorchSF    1460 non-null   int64  \n",
      " 67  EnclosedPorch  1460 non-null   int64  \n",
      " 68  3SsnPorch      1460 non-null   int64  \n",
      " 69  ScreenPorch    1460 non-null   int64  \n",
      " 70  PoolArea       1460 non-null   int64  \n",
      " 71  PoolQC         7 non-null      object \n",
      " 72  Fence          281 non-null    object \n",
      " 73  MiscFeature    54 non-null     object \n",
      " 74  MiscVal        1460 non-null   int64  \n",
      " 75  MoSold         1460 non-null   int64  \n",
      " 76  YrSold         1460 non-null   int64  \n",
      " 77  SaleType       1460 non-null   object \n",
      " 78  SaleCondition  1460 non-null   object \n",
      " 79  SalePrice      1460 non-null   int64  \n",
      "dtypes: float64(3), int64(34), object(43)\n",
      "memory usage: 923.9+ KB\n",
      "Missing Percentages: \n",
      "MSSubClass : 0.0\n",
      "MSZoning : 0.0\n",
      "LotFrontage : 17.73972602739726\n",
      "LotArea : 0.0\n",
      "Street : 0.0\n",
      "Alley : 93.76712328767123\n",
      "LotShape : 0.0\n",
      "LandContour : 0.0\n",
      "Utilities : 0.0\n",
      "LotConfig : 0.0\n",
      "LandSlope : 0.0\n",
      "Neighborhood : 0.0\n",
      "Condition1 : 0.0\n",
      "Condition2 : 0.0\n",
      "BldgType : 0.0\n",
      "HouseStyle : 0.0\n",
      "OverallQual : 0.0\n",
      "OverallCond : 0.0\n",
      "YearBuilt : 0.0\n",
      "YearRemodAdd : 0.0\n",
      "RoofStyle : 0.0\n",
      "RoofMatl : 0.0\n",
      "Exterior1st : 0.0\n",
      "Exterior2nd : 0.0\n",
      "MasVnrType : 59.726027397260275\n",
      "MasVnrArea : 0.547945205479452\n",
      "ExterQual : 0.0\n",
      "ExterCond : 0.0\n",
      "Foundation : 0.0\n",
      "BsmtQual : 2.5342465753424657\n",
      "BsmtCond : 2.5342465753424657\n",
      "BsmtExposure : 2.6027397260273974\n",
      "BsmtFinType1 : 2.5342465753424657\n",
      "BsmtFinSF1 : 0.0\n",
      "BsmtFinType2 : 2.6027397260273974\n",
      "BsmtFinSF2 : 0.0\n",
      "BsmtUnfSF : 0.0\n",
      "TotalBsmtSF : 0.0\n",
      "Heating : 0.0\n",
      "HeatingQC : 0.0\n",
      "CentralAir : 0.0\n",
      "Electrical : 0.0684931506849315\n",
      "1stFlrSF : 0.0\n",
      "2ndFlrSF : 0.0\n",
      "LowQualFinSF : 0.0\n",
      "GrLivArea : 0.0\n",
      "BsmtFullBath : 0.0\n",
      "BsmtHalfBath : 0.0\n",
      "FullBath : 0.0\n",
      "HalfBath : 0.0\n",
      "BedroomAbvGr : 0.0\n",
      "KitchenAbvGr : 0.0\n",
      "KitchenQual : 0.0\n",
      "TotRmsAbvGrd : 0.0\n",
      "Functional : 0.0\n",
      "Fireplaces : 0.0\n",
      "FireplaceQu : 47.26027397260274\n",
      "GarageType : 5.5479452054794525\n",
      "GarageYrBlt : 5.5479452054794525\n",
      "GarageFinish : 5.5479452054794525\n",
      "GarageCars : 0.0\n",
      "GarageArea : 0.0\n",
      "GarageQual : 5.5479452054794525\n",
      "GarageCond : 5.5479452054794525\n",
      "PavedDrive : 0.0\n",
      "WoodDeckSF : 0.0\n",
      "OpenPorchSF : 0.0\n",
      "EnclosedPorch : 0.0\n",
      "3SsnPorch : 0.0\n",
      "ScreenPorch : 0.0\n",
      "PoolArea : 0.0\n",
      "PoolQC : 99.52054794520548\n",
      "Fence : 80.75342465753424\n",
      "MiscFeature : 96.30136986301369\n",
      "MiscVal : 0.0\n",
      "MoSold : 0.0\n",
      "YrSold : 0.0\n",
      "SaleType : 0.0\n",
      "SaleCondition : 0.0\n",
      "SalePrice : 0.0\n",
      "Statistical Properties: \n",
      "        MSSubClass  LotFrontage        LotArea  OverallQual  OverallCond  \\\n",
      "count  1460.000000  1201.000000    1460.000000  1460.000000  1460.000000   \n",
      "mean     56.897260    70.049958   10516.828082     6.099315     5.575342   \n",
      "std      42.300571    24.284752    9981.264932     1.382997     1.112799   \n",
      "min      20.000000    21.000000    1300.000000     1.000000     1.000000   \n",
      "25%      20.000000    59.000000    7553.500000     5.000000     5.000000   \n",
      "50%      50.000000    69.000000    9478.500000     6.000000     5.000000   \n",
      "75%      70.000000    80.000000   11601.500000     7.000000     6.000000   \n",
      "max     190.000000   313.000000  215245.000000    10.000000     9.000000   \n",
      "\n",
      "         YearBuilt  YearRemodAdd   MasVnrArea   BsmtFinSF1   BsmtFinSF2  ...  \\\n",
      "count  1460.000000   1460.000000  1452.000000  1460.000000  1460.000000  ...   \n",
      "mean   1971.267808   1984.865753   103.685262   443.639726    46.549315  ...   \n",
      "std      30.202904     20.645407   181.066207   456.098091   161.319273  ...   \n",
      "min    1872.000000   1950.000000     0.000000     0.000000     0.000000  ...   \n",
      "25%    1954.000000   1967.000000     0.000000     0.000000     0.000000  ...   \n",
      "50%    1973.000000   1994.000000     0.000000   383.500000     0.000000  ...   \n",
      "75%    2000.000000   2004.000000   166.000000   712.250000     0.000000  ...   \n",
      "max    2010.000000   2010.000000  1600.000000  5644.000000  1474.000000  ...   \n",
      "\n",
      "        WoodDeckSF  OpenPorchSF  EnclosedPorch    3SsnPorch  ScreenPorch  \\\n",
      "count  1460.000000  1460.000000    1460.000000  1460.000000  1460.000000   \n",
      "mean     94.244521    46.660274      21.954110     3.409589    15.060959   \n",
      "std     125.338794    66.256028      61.119149    29.317331    55.757415   \n",
      "min       0.000000     0.000000       0.000000     0.000000     0.000000   \n",
      "25%       0.000000     0.000000       0.000000     0.000000     0.000000   \n",
      "50%       0.000000    25.000000       0.000000     0.000000     0.000000   \n",
      "75%     168.000000    68.000000       0.000000     0.000000     0.000000   \n",
      "max     857.000000   547.000000     552.000000   508.000000   480.000000   \n",
      "\n",
      "          PoolArea       MiscVal       MoSold       YrSold      SalePrice  \n",
      "count  1460.000000   1460.000000  1460.000000  1460.000000    1460.000000  \n",
      "mean      2.758904     43.489041     6.321918  2007.815753  180921.195890  \n",
      "std      40.177307    496.123024     2.703626     1.328095   79442.502883  \n",
      "min       0.000000      0.000000     1.000000  2006.000000   34900.000000  \n",
      "25%       0.000000      0.000000     5.000000  2007.000000  129975.000000  \n",
      "50%       0.000000      0.000000     6.000000  2008.000000  163000.000000  \n",
      "75%       0.000000      0.000000     8.000000  2009.000000  214000.000000  \n",
      "max     738.000000  15500.000000    12.000000  2010.000000  755000.000000  \n",
      "\n",
      "[8 rows x 37 columns]\n"
     ]
    }
   ],
   "source": [
    "# First and Last five rows\n",
    "house_data = pd.read_csv(\"train.csv\", index_col=0)\n",
    "print(f\"First five row: \\n{house_data.head()}\\n\\n\")\n",
    "print(f\"Last five row: \\n{house_data.tail()}\")\n",
    "\n",
    "# Data Types\n",
    "print(f\"Data Types of each column: \") \n",
    "house_data.info()\n",
    "\n",
    "#Missing values\n",
    "missing_percentage = house_data.isna().sum() / len(house_data) * 100\n",
    "print(f\"Missing Percentages: \")\n",
    "for key, value in missing_percentage.items():\n",
    "    print(f\"{key} : {value}\")\n",
    "\n",
    "#Statistical Properties\n",
    "\n",
    "print(f\"Statistical Properties: \\n{house_data.describe()}\")"
   ]
  },
  {
   "cell_type": "code",
   "execution_count": null,
   "id": "eda87301-4d27-4461-82b2-c94f902cad40",
   "metadata": {},
   "outputs": [],
   "source": []
  },
  {
   "cell_type": "code",
   "execution_count": null,
   "id": "0f35de3c-dd53-42aa-9cb3-7d5fbbb485bb",
   "metadata": {},
   "outputs": [],
   "source": []
  },
  {
   "cell_type": "markdown",
   "id": "da49bbae-352d-4a95-bdb0-8c7d76be4ddc",
   "metadata": {},
   "source": [
    "Based on the dataset, identify the following:\n",
    "\n",
    "    .Columns that are categorical and numerical.\n",
    "\n",
    "    .Any potential outliers in the numerical columns (use visualizations like boxplots)."
   ]
  },
  {
   "cell_type": "code",
   "execution_count": 16,
   "id": "515f4868-9d8d-4038-9754-61a5ff1fc155",
   "metadata": {},
   "outputs": [
    {
     "name": "stdout",
     "output_type": "stream",
     "text": [
      "Categorical columns: \n",
      "0\n",
      "Numerical columns: \n",
      "(MSSubClass        True\n",
      "MSZoning         False\n",
      "LotFrontage      False\n",
      "LotArea           True\n",
      "Street           False\n",
      "                 ...  \n",
      "MoSold            True\n",
      "YrSold            True\n",
      "SaleType         False\n",
      "SaleCondition    False\n",
      "SalePrice         True\n",
      "Length: 80, dtype: bool, 'float64')\n"
     ]
    }
   ],
   "source": [
    "\n",
    "# Categorical columns and Numerical columns\n",
    "categorical_col = (house_data.dtypes == \"category\").sum()\n",
    "numerical_col = (house_data.dtypes== 'int64', 'float64')\n",
    "print(f\"Categorical columns: \\n{categorical_col}\")\n",
    "print(f\"Numerical columns: \\n{numerical_col}\")\n",
    "# leng =len(categorical_col) + len(numerical_col)  # for testing \n",
    "# leng\n",
    "# Box plot\n",
    "\n",
    "# print(f\"Box plot: \\n{house_data.plot.box(column=  [numeric for numeric in numerical_col])}\")"
   ]
  },
  {
   "cell_type": "markdown",
   "id": "478d006b",
   "metadata": {},
   "source": [
    "### **Problem 2: Data Manipulation with Pandas**  \n",
    "1. Filter the dataset to include only houses where the **SalePrice** is above the **90th percentile**.\n",
    "2. Create a new **calculated column**: `Price_Per_SqFt = SalePrice / GrLivArea`.\n",
    "3. **Group the data** by `Neighborhood` and calculate the **mean** and **median** for `SalePrice`.\n",
    "4. Sort the dataset by `Price_Per_SqFt` and display the **top 10 rows**."
   ]
  },
  {
   "cell_type": "code",
   "execution_count": 14,
   "id": "4b138e66",
   "metadata": {},
   "outputs": [
    {
     "name": "stdout",
     "output_type": "stream",
     "text": [
      "Slae Price above 90th percentile: \n",
      "    MSSubClass MSZoning  LotFrontage  LotArea Street Alley LotShape  \\\n",
      "Id                                                                    \n",
      "7           20       RL         75.0    10084   Pave   NaN      Reg   \n",
      "12          60       RL         85.0    11924   Pave   NaN      IR1   \n",
      "14          20       RL         91.0    10652   Pave   NaN      IR1   \n",
      "21          60       RL        101.0    14215   Pave   NaN      IR1   \n",
      "28          20       RL         98.0    11478   Pave   NaN      Reg   \n",
      "\n",
      "   LandContour Utilities LotConfig  ... PoolArea PoolQC Fence MiscFeature  \\\n",
      "Id                                  ...                                     \n",
      "7          Lvl    AllPub    Inside  ...        0    NaN   NaN         NaN   \n",
      "12         Lvl    AllPub    Inside  ...        0    NaN   NaN         NaN   \n",
      "14         Lvl    AllPub    Inside  ...        0    NaN   NaN         NaN   \n",
      "21         Lvl    AllPub    Corner  ...        0    NaN   NaN         NaN   \n",
      "28         Lvl    AllPub    Inside  ...        0    NaN   NaN         NaN   \n",
      "\n",
      "   MiscVal MoSold  YrSold  SaleType  SaleCondition  SalePrice  \n",
      "Id                                                             \n",
      "7        0      8    2007        WD         Normal     307000  \n",
      "12       0      7    2006       New        Partial     345000  \n",
      "14       0      8    2007       New        Partial     279500  \n",
      "21       0     11    2006       New        Partial     325300  \n",
      "28       0      5    2010        WD         Normal     306000  \n",
      "\n",
      "[5 rows x 80 columns]\n",
      "\n",
      "\n",
      "New column added:     MSSubClass MSZoning  LotFrontage  LotArea Street Alley LotShape  \\\n",
      "Id                                                                    \n",
      "7           20       RL         75.0    10084   Pave   NaN      Reg   \n",
      "12          60       RL         85.0    11924   Pave   NaN      IR1   \n",
      "14          20       RL         91.0    10652   Pave   NaN      IR1   \n",
      "21          60       RL        101.0    14215   Pave   NaN      IR1   \n",
      "28          20       RL         98.0    11478   Pave   NaN      Reg   \n",
      "\n",
      "   LandContour Utilities LotConfig  ... PoolQC Fence MiscFeature MiscVal  \\\n",
      "Id                                  ...                                    \n",
      "7          Lvl    AllPub    Inside  ...    NaN   NaN         NaN       0   \n",
      "12         Lvl    AllPub    Inside  ...    NaN   NaN         NaN       0   \n",
      "14         Lvl    AllPub    Inside  ...    NaN   NaN         NaN       0   \n",
      "21         Lvl    AllPub    Corner  ...    NaN   NaN         NaN       0   \n",
      "28         Lvl    AllPub    Inside  ...    NaN   NaN         NaN       0   \n",
      "\n",
      "   MoSold YrSold  SaleType  SaleCondition  SalePrice  Price_per_SqFt  \n",
      "Id                                                                    \n",
      "7       8   2007        WD         Normal     307000      181.227863  \n",
      "12      7   2006       New        Partial     345000      148.450947  \n",
      "14      8   2007       New        Partial     279500      187.081660  \n",
      "21     11   2006       New        Partial     325300      136.910774  \n",
      "28      5   2010        WD         Normal     306000      179.577465  \n",
      "\n",
      "[5 rows x 81 columns]\n",
      "Group by Neighborhood and calculate mean and median: \n",
      "\n",
      "\n",
      "                       mean    median\n",
      "Neighborhood                         \n",
      "ClearCr       303333.333333  302000.0\n",
      "CollgCr       319081.444444  297000.0\n",
      "Crawfor       340442.857143  335000.0\n",
      "Edwards       320000.000000  320000.0\n",
      "Gilbert       348750.000000  348750.0\n",
      "NAmes         345000.000000  345000.0\n",
      "NWAmes        299800.000000  299800.0\n",
      "NoRidge       378367.333333  336000.0\n",
      "NridgHt       371608.541667  352000.0\n",
      "OldTown       365000.000000  325000.0\n",
      "SawyerW       312533.333333  316600.0\n",
      "Somerst       324222.230769  311872.0\n",
      "StoneBr       405289.583333  384713.0\n",
      "Timber        320929.416667  313750.0\n",
      "Veenker       334333.333333  324000.0\n",
      "\n",
      "\n",
      "Sort by Price Per sqft: \n",
      "      MSSubClass MSZoning  LotFrontage  LotArea Street Alley LotShape  \\\n",
      "Id                                                                      \n",
      "689           20       RL         60.0     8089   Pave   NaN      Reg   \n",
      "899           20       RL        100.0    12919   Pave   NaN      IR1   \n",
      "1182         120       RM         64.0     5587   Pave   NaN      IR1   \n",
      "441           20       RL        105.0    15431   Pave   NaN      Reg   \n",
      "179           20       RL         63.0    17423   Pave   NaN      IR1   \n",
      "1244          20       RL        107.0    13891   Pave   NaN      Reg   \n",
      "474           20       RL        110.0    14977   Pave   NaN      IR1   \n",
      "152           20       RL        107.0    13891   Pave   NaN      Reg   \n",
      "1389          20       RL         42.0    14892   Pave   NaN      IR1   \n",
      "1229         120       RL         65.0     8769   Pave   NaN      Reg   \n",
      "\n",
      "     LandContour Utilities LotConfig  ... PoolQC Fence MiscFeature MiscVal  \\\n",
      "Id                                    ...                                    \n",
      "689          HLS    AllPub    Inside  ...    NaN   NaN         NaN       0   \n",
      "899          Lvl    AllPub    Inside  ...    NaN   NaN         NaN       0   \n",
      "1182         HLS    AllPub    Inside  ...    NaN   NaN         NaN       0   \n",
      "441          Lvl    AllPub    Inside  ...    NaN   NaN         NaN       0   \n",
      "179          Lvl    AllPub   CulDSac  ...    NaN   NaN         NaN       0   \n",
      "1244         Lvl    AllPub    Inside  ...    NaN   NaN         NaN       0   \n",
      "474          Lvl    AllPub    Inside  ...    NaN   NaN         NaN       0   \n",
      "152          Lvl    AllPub    Inside  ...    NaN   NaN         NaN       0   \n",
      "1389         HLS    AllPub   CulDSac  ...    NaN   NaN         NaN       0   \n",
      "1229         Lvl    AllPub    Corner  ...    NaN   NaN         NaN       0   \n",
      "\n",
      "     MoSold YrSold  SaleType  SaleCondition  SalePrice  Price_per_SqFt  \n",
      "Id                                                                      \n",
      "689      10   2007       New        Partial     392000      276.250881  \n",
      "899       3   2010       New        Partial     611657      258.738156  \n",
      "1182     11   2008       New        Partial     392500      237.590799  \n",
      "441       4   2009        WD         Normal     555000      231.057452  \n",
      "179       7   2009       New        Partial     501837      224.636079  \n",
      "1244      9   2006       New        Partial     465000      223.988439  \n",
      "474       7   2007       New        Partial     440000      222.672065  \n",
      "152       1   2008       New        Partial     372402      217.778947  \n",
      "1389     10   2009        WD         Normal     377500      216.208477  \n",
      "1229     10   2008       New        Partial     367294      215.801410  \n",
      "\n",
      "[10 rows x 81 columns]\n"
     ]
    },
    {
     "name": "stderr",
     "output_type": "stream",
     "text": [
      "/var/folders/dh/hwqk2ngs1nl5cyy_vk8pdc1m0000gn/T/ipykernel_89285/1281123011.py:8: SettingWithCopyWarning: \n",
      "A value is trying to be set on a copy of a slice from a DataFrame.\n",
      "Try using .loc[row_indexer,col_indexer] = value instead\n",
      "\n",
      "See the caveats in the documentation: https://pandas.pydata.org/pandas-docs/stable/user_guide/indexing.html#returning-a-view-versus-a-copy\n",
      "  filter_sale_price[\"Price_per_SqFt\"] = filter_sale_price['SalePrice'] / filter_sale_price['GrLivArea']\n"
     ]
    }
   ],
   "source": [
    "# 90th Percentile\n",
    "\n",
    "percentage = house_data[\"SalePrice\"].quantile(0.9) # where quantile(0.5) mean 50%\n",
    "filter_sale_price = house_data[house_data[\"SalePrice\"] > percentage]\n",
    "print(f\"Slae Price above 90th percentile: \\n{filter_sale_price.head()}\\n\\n\")\n",
    "\n",
    "# Create new calculated column\n",
    "filter_sale_price[\"Price_per_SqFt\"] = filter_sale_price['SalePrice'] / filter_sale_price['GrLivArea']\n",
    "print(f\"New column added: {filter_sale_price.head()}\")\n",
    "\n",
    "# Group by data\n",
    "print(f\"Group by Neighborhood and calculate mean and median: \")\n",
    "group_neighborhood = filter_sale_price.groupby('Neighborhood')['SalePrice'].agg(['mean', 'median'])\n",
    "\n",
    "print(f\"\\n\\n{group_neighborhood}\\n\\n\")\n",
    "\n",
    "# sort by Price_Per_Sqft\n",
    "print(f\"Sort by Price Per sqft: \\n{filter_sale_price.sort_values(by= 'Price_per_SqFt', ascending= False).head(10)}\")\n"
   ]
  },
  {
   "cell_type": "code",
   "execution_count": null,
   "id": "52282938-182c-4ca9-8e54-06dd756a38a7",
   "metadata": {},
   "outputs": [],
   "source": []
  },
  {
   "cell_type": "markdown",
   "id": "04861a67",
   "metadata": {},
   "source": [
    "### **Problem 3: Handling Missing Data and Imputation**  \n",
    "1. Identify columns with **missing values**.\n",
    "2. Impute the missing values:\n",
    "   - For **numerical columns**, replace missing values with the **median**.\n",
    "   - For **categorical columns**, replace missing values with the **most frequent** value.\n",
    "3. Justify your choice of imputation methods and check if any missing data remains."
   ]
  },
  {
   "cell_type": "code",
   "execution_count": null,
   "id": "f6681db0",
   "metadata": {},
   "outputs": [],
   "source": []
  },
  {
   "cell_type": "markdown",
   "id": "a3db0ce9",
   "metadata": {},
   "source": [
    "### **Problem 4: Numpy Array Operations**  \n",
    "1. Convert the numerical columns (such as `LotArea`, `YearBuilt`, `GrLivArea`, `SalePrice`, etc.) into a **NumPy array**.\n",
    "2. Perform the following NumPy operations on the array:\n",
    "   - Compute the **mean** and **standard deviation** of each column.\n",
    "   - Normalize the data using **min-max scaling** and **z-score normalization**.\n",
    "   - Compute the **dot product** between two numerical columns of your choice."
   ]
  },
  {
   "cell_type": "code",
   "execution_count": null,
   "id": "dac24b00",
   "metadata": {},
   "outputs": [],
   "source": []
  },
  {
   "cell_type": "markdown",
   "id": "d8c7eb9b",
   "metadata": {},
   "source": [
    "### **Problem 5: Data Visualization**  \n",
    "Using Matplotlib and/or Seaborn, visualize the following:\n",
    "1. **Distribution** of `SalePrice` using a **histogram**.\n",
    "2. **Box plot** of `SalePrice` grouped by `OverallQual` (overall quality of the house).\n",
    "3. **Scatter plot** between `GrLivArea` (Above-ground living area) and `SalePrice`. Analyze the relationship.\n",
    "4. Plot a **correlation heatmap** for the numerical columns."
   ]
  },
  {
   "cell_type": "code",
   "execution_count": null,
   "id": "44ca7f30",
   "metadata": {},
   "outputs": [],
   "source": []
  },
  {
   "cell_type": "markdown",
   "id": "519934da",
   "metadata": {},
   "source": [
    "### **Problem 6: Aggregation and Transformation**  \n",
    "1. Perform a **groupby** operation on `Neighborhood` and calculate the **mean** and **median** for `SalePrice`.\n",
    "2. Use the `apply()` function to create a custom transformation for `SalePrice` (e.g., scaling or transformation).\n",
    "3. Aggregate multiple statistical values (e.g., **mean**, **median**, and **count**) for `SalePrice` grouped by `OverallQual`."
   ]
  },
  {
   "cell_type": "code",
   "execution_count": null,
   "id": "27d7891c",
   "metadata": {},
   "outputs": [],
   "source": []
  }
 ],
 "metadata": {
  "kernelspec": {
   "display_name": "Python 3 (ipykernel)",
   "language": "python",
   "name": "python3"
  },
  "language_info": {
   "codemirror_mode": {
    "name": "ipython",
    "version": 3
   },
   "file_extension": ".py",
   "mimetype": "text/x-python",
   "name": "python",
   "nbconvert_exporter": "python",
   "pygments_lexer": "ipython3",
   "version": "3.11.10"
  }
 },
 "nbformat": 4,
 "nbformat_minor": 5
}
